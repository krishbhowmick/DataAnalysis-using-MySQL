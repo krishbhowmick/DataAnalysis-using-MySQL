{
 "cells": [
  {
   "cell_type": "code",
   "execution_count": 6,
   "metadata": {},
   "outputs": [
    {
     "name": "stdout",
     "output_type": "stream",
     "text": [
      "<mysql.connector.connection_cext.CMySQLConnection object at 0x000002B1C4450850>\n"
     ]
    }
   ],
   "source": [
    "#Creating Databases in MySQL\n",
    "\n",
    "import mysql.connector\n",
    "mydb = mysql.connector.connect(host=\"localhost\",  \n",
    "              user=\"*****\",  password=\"*******\")\n",
    "print(mydb)\n",
    "cursor = mydb.cursor()\n"
   ]
  },
  {
   "cell_type": "code",
   "execution_count": 7,
   "metadata": {},
   "outputs": [
    {
     "name": "stdout",
     "output_type": "stream",
     "text": [
      "('abc',)\n",
      "('business',)\n",
      "('games2win',)\n",
      "('grofers',)\n",
      "('information_schema',)\n",
      "('krish',)\n",
      "('mysql',)\n",
      "('performance_schema',)\n",
      "('pharm_easy',)\n",
      "('sales',)\n",
      "('sys',)\n"
     ]
    }
   ],
   "source": [
    "cursor.execute('SHOW DATABASES')\n",
    "for database in cursor:\n",
    "    print(database)\n"
   ]
  },
  {
   "cell_type": "code",
   "execution_count": 8,
   "metadata": {},
   "outputs": [],
   "source": [
    "# sql_mode=only_full_group_by\n",
    "\n",
    "sql= \"SET sql_mode=(SELECT REPLACE(@@sql_mode,'ONLY_FULL_GROUP_BY',''))\"\n",
    "cursor.execute(sql)\n",
    "mydb.commit()"
   ]
  },
  {
   "cell_type": "code",
   "execution_count": 9,
   "metadata": {},
   "outputs": [],
   "source": [
    "# -selected database\n",
    "\n",
    "cursor.execute('use pharm_easy')"
   ]
  },
  {
   "cell_type": "code",
   "execution_count": 11,
   "metadata": {},
   "outputs": [
    {
     "name": "stdout",
     "output_type": "stream",
     "text": [
      "('employees',)\n",
      "('follows',)\n",
      "('users',)\n"
     ]
    }
   ],
   "source": [
    "#Show tables\n",
    "\n",
    "sql= \"show tables\"\n",
    "cursor.execute(sql)\n",
    "\n",
    "for database in cursor:\n",
    "    print(database)"
   ]
  },
  {
   "cell_type": "code",
   "execution_count": 12,
   "metadata": {},
   "outputs": [],
   "source": [
    "#0.1 #Q0  Table_users\n",
    "\n",
    "sql= \"select * from users \"\n",
    "cursor.execute(sql)\n",
    "myresult= cursor.fetchall()\n",
    "\n",
    "for x in myresult:\n",
    "  print(x)"
   ]
  },
  {
   "cell_type": "code",
   "execution_count": 13,
   "metadata": {},
   "outputs": [],
   "source": [
    "#0.1 #Q0  Table_follows\n",
    "\n",
    "sql= \"select * from follows \"\n",
    "cursor.execute(sql)\n",
    "myresult= cursor.fetchall()\n",
    "\n",
    "for x in myresult:\n",
    "  print(x)"
   ]
  },
  {
   "cell_type": "code",
   "execution_count": 14,
   "metadata": {},
   "outputs": [
    {
     "name": "stdout",
     "output_type": "stream",
     "text": [
      "('1401', 'D Maiti', '140000', 'Prof', '42')\n",
      "('1402', 'Amit Sethi', '100000', 'Prof', '39')\n",
      "('1403', 'Tilak Maiti', '40000', 'Prof', '29')\n",
      "('1404', 'Krish Nendu', '70000', 'Prof', '27')\n",
      "('1405', 'Babu', '60000', 'Engineer', '26')\n",
      "('1406', 'Bablu', '120000', 'Engineer', '56')\n",
      "('1407', 'Srinjoy', '80000', 'Engineer', '25')\n",
      "('1408', 'Samu', '80000', 'Engineer', '58')\n",
      "('1409', 'Narayan', '50000', 'Doct', '68')\n",
      "('1410', 'Samares', '20000', 'Doct', '35')\n",
      "('1411', 'Amitosh', '40000', 'Doct', '27')\n",
      "('1412', 'Anup', '30000', 'Doct', '32')\n",
      "('1413', 'Tripti', '40000', 'Techer', '35')\n",
      "('1414', 'Bratati', '37000', 'Techer', '41')\n",
      "('1415', 'Hedu', '60000', 'Techer', '58')\n",
      "('1416', 'Moinag', '29000', 'Techer', '29')\n"
     ]
    }
   ],
   "source": [
    "#0.1 #Q0  Table_employees\n",
    "\n",
    "sql= \"select * from employees \"\n",
    "cursor.execute(sql)\n",
    "myresult= cursor.fetchall()\n",
    "\n",
    "for x in myresult:\n",
    "  print(x)"
   ]
  },
  {
   "cell_type": "code",
   "execution_count": 6,
   "metadata": {},
   "outputs": [
    {
     "name": "stdout",
     "output_type": "stream",
     "text": [
      "('BlackRose', 4)\n",
      "('G.House', 4)\n",
      "('A.P.J.Abdulkalam', 4)\n",
      "('Modi House', 4)\n"
     ]
    }
   ],
   "source": [
    "#1 #calculate how many users are there in each house .\n",
    "\n",
    "sql= \"select house,count(user_id) as count from users group by house ;\"\n",
    "cursor.execute(sql)\n",
    "myresult= cursor.fetchall()   #fetchall() method, which fetches all rows from the last executed statement.\n",
    "\n",
    "for x in myresult:\n",
    "  print(x)"
   ]
  },
  {
   "cell_type": "code",
   "execution_count": 7,
   "metadata": {},
   "outputs": [
    {
     "name": "stdout",
     "output_type": "stream",
     "text": [
      "('1401', ' Debabrata  Maiti', 8)\n",
      "('1402', ' Amit  Sethi', 8)\n",
      "('1403', ' Tilak Maiti', 7)\n",
      "('1404', ' Krish Bhowmick', 10)\n",
      "('1405', ' Babu Bhowmick', 9)\n",
      "('1406', ' Bablu Bhowmick', 7)\n"
     ]
    }
   ],
   "source": [
    "#2 #How many users(show name) follow by each user.\n",
    "\n",
    "sql= \"select a.user_id, concat(a.fstname,' ',a.lstname) as name,count(b.follow) as follow from users as a inner join follows as b on a.user_id=b.user_id group by b.user_id ;\"\n",
    "cursor.execute(sql)\n",
    "myresult= cursor.fetchall()   #fetchall() method, which fetches all rows from the last executed statement.\n",
    "\n",
    "for x in myresult:\n",
    "  print(x)"
   ]
  },
  {
   "cell_type": "code",
   "execution_count": 8,
   "metadata": {},
   "outputs": [
    {
     "name": "stdout",
     "output_type": "stream",
     "text": [
      "('1401', ' Debabrata  Maiti', 2)\n",
      "('1402', ' Amit  Sethi', 5)\n",
      "('1403', ' Tilak Maiti', 4)\n",
      "('1404', ' Krish Bhowmick', 5)\n",
      "('1405', ' Babu Bhowmick', 3)\n",
      "('1406', ' Bablu Bhowmick', 4)\n"
     ]
    }
   ],
   "source": [
    "#3 #Make a list that connect before 2015, after 2016, between 2014-2018, on 2018 with concate name.\n",
    "\n",
    "sql= \"select a.user_id, concat(a.fstname,' ',a.lstname) as name,count(b.follow) as follow from users as a inner join follows as b on a.user_id=b.user_id where date<'2015-01-01' group by b.user_id \"\n",
    "cursor.execute(sql)\n",
    "myresult= cursor.fetchall()   #fetchall() method, which fetches all rows from the last executed statement.\n",
    "\n",
    "for x in myresult:\n",
    "  print(x)\n",
    "\n",
    "# select a.user_id, concat(a.fstname,' ',a.lstname) as name,count(b.follow) as follow from users as a inner join follows as b on a.user_id=b.user_id where date>'2015-01-01' group by b.user_id ;\n",
    "# select a.user_id, concat(a.fstname,' ',a.lstname) as name,count(b.follow) as follow from users as a inner join follows as b on a.user_id=b.user_id where date>'2014-01-01' and date<'2018-12-30' group by b.user_id ;\n",
    "# select a.user_id, concat(a.fstname,' ',a.lstname) as name,count(b.follow) as follow from users as a inner join follows as b on a.user_id=b.user_id where date>='2018-01-01' and date<='2018-12-30' group by b.user_id ;\n",
    "#"
   ]
  },
  {
   "cell_type": "code",
   "execution_count": 9,
   "metadata": {},
   "outputs": [
    {
     "name": "stdout",
     "output_type": "stream",
     "text": [
      "('1401', ' Debabrata', 'BlackRose', '1401', '1405', '2019-05-29', '1405', ' Babu', 'G.House', '1401', '1405', '2019-05-29')\n",
      "('1401', ' Debabrata', 'BlackRose', '1401', '1407', '2015-03-12', '1407', 'Srinjoy', 'G.House', '1401', '1407', '2015-03-12')\n",
      "('1401', ' Debabrata', 'BlackRose', '1401', '1409', '2013-08-22', '1409', 'Narayan', 'A.P.J.Abdulkalam', '1401', '1409', '2013-08-22')\n",
      "('1401', ' Debabrata', 'BlackRose', '1401', '1411', '2017-09-02', '1411', 'Amitosh', 'A.P.J.Abdulkalam', '1401', '1411', '2017-09-02')\n",
      "('1401', ' Debabrata', 'BlackRose', '1401', '1413', '2017-02-09', '1413', 'Tripti', 'Modi House', '1401', '1413', '2017-02-09')\n",
      "('1401', ' Debabrata', 'BlackRose', '1401', '1416', '2015-12-26', '1416', 'Moinag', 'Modi House', '1401', '1416', '2015-12-26')\n",
      "('1402', ' Amit', 'BlackRose', '1402', '1416', '2011-02-06', '1416', 'Moinag', 'Modi House', '1402', '1416', '2011-02-06')\n",
      "('1402', ' Amit', 'BlackRose', '1402', '1415', '2016-10-16', '1415', 'Anirbam', 'Modi House', '1402', '1415', '2016-10-16')\n",
      "('1402', ' Amit', 'BlackRose', '1402', '1410', '2013-11-06', '1410', 'Samares', 'A.P.J.Abdulkalam', '1402', '1410', '2013-11-06')\n",
      "('1402', ' Amit', 'BlackRose', '1402', '1408', '2014-01-09', '1408', 'Somu', 'G.House', '1402', '1408', '2014-01-09')\n",
      "('1402', ' Amit', 'BlackRose', '1402', '1407', '2013-05-21', '1407', 'Srinjoy', 'G.House', '1402', '1407', '2013-05-21')\n",
      "('1402', ' Amit', 'BlackRose', '1402', '1406', '2016-08-30', '1406', ' Bablu', 'G.House', '1402', '1406', '2016-08-30')\n",
      "('1403', ' Tilak', 'BlackRose', '1403', '1416', '2014-05-03', '1416', 'Moinag', 'Modi House', '1403', '1416', '2014-05-03')\n",
      "('1403', ' Tilak', 'BlackRose', '1403', '1405', '2012-10-05', '1405', ' Babu', 'G.House', '1403', '1405', '2012-10-05')\n",
      "('1403', ' Tilak', 'BlackRose', '1403', '1409', '2010-12-27', '1409', 'Narayan', 'A.P.J.Abdulkalam', '1403', '1409', '2010-12-27')\n",
      "('1403', ' Tilak', 'BlackRose', '1403', '1414', '2017-04-17', '1414', 'Bratati', 'Modi House', '1403', '1414', '2017-04-17')\n",
      "('1404', ' Krish', 'BlackRose', '1404', '1410', '2019-01-07', '1410', 'Samares', 'A.P.J.Abdulkalam', '1404', '1410', '2019-01-07')\n",
      "('1404', ' Krish', 'BlackRose', '1404', '1411', '2015-05-15', '1411', 'Amitosh', 'A.P.J.Abdulkalam', '1404', '1411', '2015-05-15')\n",
      "('1404', ' Krish', 'BlackRose', '1404', '1413', '2017-03-22', '1413', 'Tripti', 'Modi House', '1404', '1413', '2017-03-22')\n",
      "('1404', ' Krish', 'BlackRose', '1404', '1414', '2016-07-24', '1414', 'Bratati', 'Modi House', '1404', '1414', '2016-07-24')\n",
      "('1404', ' Krish', 'BlackRose', '1404', '1415', '2013-09-26', '1415', 'Anirbam', 'Modi House', '1404', '1415', '2013-09-26')\n",
      "('1404', ' Krish', 'BlackRose', '1404', '1407', '2018-03-06', '1407', 'Srinjoy', 'G.House', '1404', '1407', '2018-03-06')\n",
      "('1404', ' Krish', 'BlackRose', '1404', '1405', '2011-05-16', '1405', ' Babu', 'G.House', '1404', '1405', '2011-05-16')\n",
      "('1405', ' Babu', 'G.House', '1405', '1404', '2013-07-09', '1404', ' Krish', 'BlackRose', '1405', '1404', '2013-07-09')\n",
      "('1405', ' Babu', 'G.House', '1405', '1402', '2017-03-29', '1402', ' Amit', 'BlackRose', '1405', '1402', '2017-03-29')\n",
      "('1405', ' Babu', 'G.House', '1405', '1401', '2014-10-21', '1401', ' Debabrata', 'BlackRose', '1405', '1401', '2014-10-21')\n",
      "('1405', ' Babu', 'G.House', '1405', '1410', '2016-11-01', '1410', 'Samares', 'A.P.J.Abdulkalam', '1405', '1410', '2016-11-01')\n",
      "('1405', ' Babu', 'G.House', '1405', '1411', '2018-10-28', '1411', 'Amitosh', 'A.P.J.Abdulkalam', '1405', '1411', '2018-10-28')\n",
      "('1405', ' Babu', 'G.House', '1405', '1412', '2018-07-08', '1412', 'Anup', 'A.P.J.Abdulkalam', '1405', '1412', '2018-07-08')\n",
      "('1405', ' Babu', 'G.House', '1405', '1415', '2015-05-05', '1415', 'Anirbam', 'Modi House', '1405', '1415', '2015-05-05')\n",
      "('1406', ' Bablu', 'G.House', '1406', '1416', '2014-09-04', '1416', 'Moinag', 'Modi House', '1406', '1416', '2014-09-04')\n",
      "('1406', ' Bablu', 'G.House', '1406', '1413', '2019-03-24', '1413', 'Tripti', 'Modi House', '1406', '1413', '2019-03-24')\n",
      "('1406', ' Bablu', 'G.House', '1406', '1410', '2019-08-14', '1410', 'Samares', 'A.P.J.Abdulkalam', '1406', '1410', '2019-08-14')\n",
      "('1406', ' Bablu', 'G.House', '1406', '1403', '2016-07-07', '1403', ' Tilak', 'BlackRose', '1406', '1403', '2016-07-07')\n",
      "('1406', ' Bablu', 'G.House', '1406', '1402', '2013-09-18', '1402', ' Amit', 'BlackRose', '1406', '1402', '2013-09-18')\n"
     ]
    }
   ],
   "source": [
    "##3.1 #How many users follow by a particular user, who doesnot belong to same house.\n",
    "\n",
    "sql=\"select * from (select A.user_id as id,A.fstname as name,A.house,B.user_id,B.follow,B.date from users as A inner join follows as B on A.user_id=B.user_id order by date) as E inner join (select C.user_id as id_B,C.fstname as name_B,C.house as house_B,D.user_id as user_id_B,D.follow as follow_B,D.date as date_B from users as C inner join follows as D on C.user_id=D.follow order by date) as F on E.date=F.date_B where house!=house_B\"\n",
    "cursor.execute(sql)\n",
    "myresult= cursor.fetchall()   #fetchall() method, which fetches all rows from the last executed statement.\n",
    "\n",
    "for x in myresult:\n",
    "  print(x)"
   ]
  },
  {
   "cell_type": "code",
   "execution_count": 10,
   "metadata": {},
   "outputs": [
    {
     "name": "stdout",
     "output_type": "stream",
     "text": [
      "(' Debabrata', 6)\n",
      "(' Amit', 6)\n",
      "(' Tilak', 4)\n",
      "(' Krish', 7)\n",
      "(' Babu', 7)\n",
      "(' Bablu', 5)\n"
     ]
    }
   ],
   "source": [
    "##3.1 #How many users follow by a particular user, who doesnot belong to same house.\n",
    "\n",
    "sql= \"select name,count(name) as count from (select * from (select A.user_id as id,A.fstname as name,A.house,B.user_id,B.follow,B.date from users as A inner join follows as B on A.user_id=B.user_id order by date) as E inner join (select C.user_id as id_B,C.fstname as name_B,C.house as house_B,D.user_id as user_id_B,D.follow as follow_B,D.date as date_B from users as C inner join follows as D on C.user_id=D.follow order by date) as F on E.date=F.date_B where house!=house_B) SUB group by name\"\n",
    "cursor.execute(sql)\n",
    "myresult= cursor.fetchall()   #fetchall() method, which fetches all rows from the last executed statement.\n",
    "\n",
    "for x in myresult:\n",
    "  print(x)\n",
    "  \n"
   ]
  },
  {
   "cell_type": "code",
   "execution_count": 11,
   "metadata": {},
   "outputs": [
    {
     "name": "stdout",
     "output_type": "stream",
     "text": [
      "('1404', ' Krish Bhowmick', 'BlackRose')\n",
      "('1405', ' Babu Bhowmick', 'G.House')\n",
      "('1406', ' Bablu Bhowmick', 'G.House')\n",
      "('1409', 'Narayan Bhowmick', 'A.P.J.Abdulkalam')\n",
      "('1413', 'Tripti Bhowmick', 'Modi House')\n",
      "('1416', 'Moinag QuestionBank', 'Modi House')\n"
     ]
    }
   ],
   "source": [
    "#4 #Start ans finish with k\n",
    "\n",
    "sql= \"select user_id, concat(fstname,' ',lstname) as name,house from users where lstname like '%k' ;\"\n",
    "cursor.execute(sql)\n",
    "myresult= cursor.fetchall()   #fetchall() method, which fetches all rows from the last executed statement.\n",
    "\n",
    "for x in myresult:\n",
    "  print(x)"
   ]
  },
  {
   "cell_type": "code",
   "execution_count": 12,
   "metadata": {},
   "outputs": [
    {
     "name": "stdout",
     "output_type": "stream",
     "text": [
      "('1409', 'Narayan', '50000', 'Doct', '68')\n"
     ]
    }
   ],
   "source": [
    "#5 #tell me the details of the person, who age is maximum\n",
    "\n",
    "sql= \"select * from employees order by age desc limit 1\"\n",
    "cursor.execute(sql)\n",
    "myresult= cursor.fetchall()   #fetchall() method, which fetches all rows from the last executed statement.\n",
    "\n",
    "for x in myresult:\n",
    "  print(x)\n",
    "\n",
    "#;"
   ]
  },
  {
   "cell_type": "code",
   "execution_count": 13,
   "metadata": {},
   "outputs": [
    {
     "name": "stdout",
     "output_type": "stream",
     "text": [
      "('1409', 'Narayan', '50000', 'Doct', '68')\n"
     ]
    }
   ],
   "source": [
    "#5.1 #tell me the details of the person, who age is maximum\n",
    "\n",
    "sql= \"select * from employees where age= (select max(age) from employees)\"\n",
    "cursor.execute(sql)\n",
    "myresult= cursor.fetchall()   #fetchall() method, which fetches all rows from the last executed statement.\n",
    "\n",
    "for x in myresult:\n",
    "  print(x)"
   ]
  },
  {
   "cell_type": "code",
   "execution_count": 14,
   "metadata": {},
   "outputs": [
    {
     "name": "stdout",
     "output_type": "stream",
     "text": [
      "('1403', 'Tilak Maiti', '40000', 'Prof', '29', 'A')\n",
      "('1404', 'Krish Nendu', '70000', 'Prof', '27', 'A')\n",
      "('1405', 'Babu', '60000', 'Engineer', '26', 'A')\n",
      "('1407', 'Srinjoy', '80000', 'Engineer', '25', 'A')\n",
      "('1411', 'Amitosh', '40000', 'Doct', '27', 'A')\n",
      "('1416', 'Moinag', '29000', 'Techer', '29', 'A')\n",
      "('1401', 'D Maiti', '140000', 'Prof', '42', 'AA')\n",
      "('1402', 'Amit Sethi', '100000', 'Prof', '39', 'AA')\n",
      "('1410', 'Samares', '20000', 'Doct', '35', 'AA')\n",
      "('1412', 'Anup', '30000', 'Doct', '32', 'AA')\n",
      "('1413', 'Tripti', '40000', 'Techer', '35', 'AA')\n",
      "('1414', 'Bratati', '37000', 'Techer', '41', 'AA')\n",
      "('1406', 'Bablu', '120000', 'Engineer', '56', 'AAA')\n",
      "('1408', 'Samu', '80000', 'Engineer', '58', 'AAA')\n",
      "('1409', 'Narayan', '50000', 'Doct', '68', 'AAA')\n",
      "('1415', 'Hedu', '60000', 'Techer', '58', 'AAA')\n"
     ]
    }
   ],
   "source": [
    "#6 #Catagory of age where (<30=1) (30-40=2) (>40=3)\n",
    "\n",
    "sql= \"select id,name,salary,dept,age, CASE WHEN age<30 THEN 'A' WHEN age BETWEEN 30 AND 45 THEN 'AA' WHEN age>45 THEN 'AAA' END AS category from employees order by category;\"\n",
    "cursor.execute(sql)\n",
    "myresult= cursor.fetchall()   #fetchall() method, which fetches all rows from the last executed statement.\n",
    "\n",
    "for x in myresult:\n",
    "  print(x)"
   ]
  },
  {
   "cell_type": "code",
   "execution_count": 20,
   "metadata": {},
   "outputs": [
    {
     "name": "stdout",
     "output_type": "stream",
     "text": [
      "('1401', 'D Maiti', '140000', 'Prof', '42')\n",
      "('1408', 'Samu', '80000', 'Engineer', '58')\n",
      "('1409', 'Narayan', '50000', 'Doct', '68')\n",
      "('1415', 'Hedu', '60000', 'Techer', '58')\n"
     ]
    }
   ],
   "source": [
    "#7 #Highest age in each dept (Wrong)\n",
    "\n",
    "sql= \"select * from employees where age= any(select max(age) from employees group by dept)\"\n",
    "cursor.execute(sql)\n",
    "myresult= cursor.fetchall()   #fetchall() method, which fetches all rows from the last executed statement.\n",
    "\n",
    "for x in myresult:\n",
    "  print(x)\n"
   ]
  },
  {
   "cell_type": "code",
   "execution_count": 16,
   "metadata": {},
   "outputs": [
    {
     "name": "stdout",
     "output_type": "stream",
     "text": [
      "(1, '1409', 'Narayan', '50000', 'Doct', '68')\n",
      "(1, '1408', 'Samu', '80000', 'Engineer', '58')\n",
      "(1, '1401', 'D Maiti', '140000', 'Prof', '42')\n",
      "(1, '1415', 'Hedu', '60000', 'Techer', '58')\n"
     ]
    }
   ],
   "source": [
    "#7.1 #Highest age in each dept using window function\n",
    "\n",
    "sql= \"select * from (select ROW_NUMBER() OVER(PARTITION BY dept order by age desc) as rnk, id,name,salary,dept,age from employees)SUB where rnk<=1\"\n",
    "cursor.execute(sql)\n",
    "myresult= cursor.fetchall()   #fetchall() method, which fetches all rows from the last executed statement.\n",
    "\n",
    "for x in myresult:\n",
    "  print(x)\n"
   ]
  },
  {
   "cell_type": "code",
   "execution_count": 17,
   "metadata": {},
   "outputs": [
    {
     "name": "stdout",
     "output_type": "stream",
     "text": [
      "('1404', 'Krish Nendu', '70000', 'Prof', '27')\n",
      "('1411', 'Amitosh', '40000', 'Doct', '27')\n",
      "('1403', 'Tilak Maiti', '40000', 'Prof', '29')\n",
      "('1416', 'Moinag', '29000', 'Techer', '29')\n",
      "('1410', 'Samares', '20000', 'Doct', '35')\n",
      "('1413', 'Tripti', '40000', 'Techer', '35')\n",
      "('1408', 'Samu', '80000', 'Engineer', '58')\n",
      "('1415', 'Hedu', '60000', 'Techer', '58')\n"
     ]
    }
   ],
   "source": [
    "#8 # How many are copyed/repetative and what are those values.\n",
    "\n",
    "sql= \"select a.id,a.name,a.salary,a.dept,a.age from employees as a inner join (select age, count(age) from employees group by age having count(age)>1) as b on a.age=b.age order by age\"\n",
    "cursor.execute(sql)\n",
    "myresult= cursor.fetchall()   #fetchall() method, which fetches all rows from the last executed statement.\n",
    "\n",
    "for x in myresult:\n",
    "  print(x)"
   ]
  },
  {
   "cell_type": "code",
   "execution_count": 18,
   "metadata": {},
   "outputs": [
    {
     "name": "stdout",
     "output_type": "stream",
     "text": [
      "('1401', '1409', '2013-08-22', '2014-11-10', 445)\n",
      "('1401', '1402', '2014-11-10', '2015-03-12', 122)\n",
      "('1401', '1407', '2015-03-12', '2015-12-26', 289)\n",
      "('1401', '1416', '2015-12-26', '2016-01-19', 24)\n",
      "('1401', '1403', '2016-01-19', '2017-02-09', 387)\n",
      "('1401', '1413', '2017-02-09', '2017-09-02', 205)\n",
      "('1401', '1411', '2017-09-02', '2019-05-29', 634)\n",
      "('1401', '1405', '2019-05-29', '2020-03-04', 280)\n",
      "('1402', '1416', '2011-02-06', '2012-12-20', 683)\n",
      "('1402', '1401', '2012-12-20', '2013-05-21', 152)\n",
      "('1402', '1407', '2013-05-21', '2013-11-06', 169)\n",
      "('1402', '1410', '2013-11-06', '2014-01-09', 64)\n",
      "('1402', '1408', '2014-01-09', '2015-02-10', 397)\n",
      "('1402', '1403', '2015-02-10', '2016-08-30', 567)\n",
      "('1402', '1406', '2016-08-30', '2016-10-16', 47)\n",
      "('1402', '1415', '2016-10-16', '2020-03-04', 1235)\n",
      "('1403', '1409', '2010-12-27', '2012-10-05', 648)\n",
      "('1403', '1405', '2012-10-05', '2013-08-13', 312)\n",
      "('1403', '1402', '2013-08-13', '2014-05-03', 263)\n",
      "('1403', '1416', '2014-05-03', '2017-04-17', 1080)\n",
      "('1403', '1414', '2017-04-17', '2018-02-23', 312)\n",
      "('1403', '1401', '2018-02-23', '2018-11-25', 275)\n",
      "('1403', '1404', '2018-11-25', '2020-03-04', 465)\n",
      "('1404', '1402', '2010-03-01', '2010-04-10', 40)\n",
      "('1404', '1401', '2010-04-10', '2010-07-11', 92)\n",
      "('1404', '1403', '2010-07-11', '2011-05-16', 309)\n",
      "('1404', '1405', '2011-05-16', '2013-09-26', 864)\n",
      "('1404', '1415', '2013-09-26', '2015-05-15', 596)\n",
      "('1404', '1411', '2015-05-15', '2016-07-24', 436)\n",
      "('1404', '1414', '2016-07-24', '2017-03-22', 241)\n",
      "('1404', '1413', '2017-03-22', '2018-03-06', 349)\n",
      "('1404', '1407', '2018-03-06', '2019-01-07', 307)\n",
      "('1404', '1410', '2019-01-07', '2020-03-04', 422)\n",
      "('1405', '1408', '2013-04-20', '2013-07-09', 80)\n",
      "('1405', '1404', '2013-07-09', '2014-10-21', 469)\n",
      "('1405', '1401', '2014-10-21', '2015-05-05', 196)\n",
      "('1405', '1415', '2015-05-05', '2016-11-01', 546)\n",
      "('1405', '1410', '2016-11-01', '2017-03-02', 121)\n",
      "('1405', '1406', '2017-03-02', '2017-03-29', 27)\n",
      "('1405', '1402', '2017-03-29', '2018-07-08', 466)\n",
      "('1405', '1412', '2018-07-08', '2018-10-28', 112)\n",
      "('1405', '1411', '2018-10-28', '2020-03-04', 493)\n",
      "('1406', '1407', '2012-08-17', '2013-03-27', 222)\n",
      "('1406', '1405', '2013-03-27', '2013-09-18', 175)\n",
      "('1406', '1402', '2013-09-18', '2014-09-04', 351)\n",
      "('1406', '1416', '2014-09-04', '2016-07-07', 672)\n",
      "('1406', '1403', '2016-07-07', '2019-03-24', 990)\n",
      "('1406', '1413', '2019-03-24', '2019-08-14', 143)\n",
      "('1406', '1410', '2019-08-14', '2020-03-04', 203)\n"
     ]
    }
   ],
   "source": [
    "# LEAD\n",
    "#9 #Tell me the time intervel one user connect with another integer-\n",
    "\n",
    "sql= \"select user_id,follow,date,LastDay,DATEDIFF(LastDay,date) as Diff from (select user_id,follow,date, LEAD(date,1,'2020-03-04') OVER(PARTITION BY user_id order by user_id,date) AS LastDay from follows) SUB\"\n",
    "cursor.execute(sql)\n",
    "myresult= cursor.fetchall()   #fetchall() method, which fetches all rows from the last executed statement.\n",
    "\n",
    "for x in myresult:\n",
    "  print(x)"
   ]
  },
  {
   "cell_type": "code",
   "execution_count": 19,
   "metadata": {},
   "outputs": [
    {
     "name": "stdout",
     "output_type": "stream",
     "text": [
      "('1411', 'Amitosh', 'Doct', '27', 27.0)\n",
      "('1412', 'Anup', 'Doct', '32', 59.0)\n",
      "('1410', 'Samares', 'Doct', '35', 94.0)\n",
      "('1409', 'Narayan', 'Doct', '68', 162.0)\n",
      "('1407', 'Srinjoy', 'Engineer', '25', 25.0)\n",
      "('1405', 'Babu', 'Engineer', '26', 51.0)\n",
      "('1406', 'Bablu', 'Engineer', '56', 107.0)\n",
      "('1408', 'Samu', 'Engineer', '58', 165.0)\n",
      "('1404', 'Krish Nendu', 'Prof', '27', 27.0)\n",
      "('1403', 'Tilak Maiti', 'Prof', '29', 56.0)\n",
      "('1402', 'Amit Sethi', 'Prof', '39', 95.0)\n",
      "('1401', 'D Maiti', 'Prof', '42', 137.0)\n",
      "('1416', 'Moinag', 'Techer', '29', 29.0)\n",
      "('1413', 'Tripti', 'Techer', '35', 64.0)\n",
      "('1414', 'Bratati', 'Techer', '41', 105.0)\n",
      "('1415', 'Hedu', 'Techer', '58', 163.0)\n"
     ]
    }
   ],
   "source": [
    "#\n",
    "#Cumulative age department wise\n",
    "\n",
    "sql= \"select id,name,dept,age, sum(age) over(partition by dept order by age) as cum from employees\"\n",
    "cursor.execute(sql)\n",
    "myresult= cursor.fetchall()   #fetchall() method, which fetches all rows from the last executed statement.\n",
    "\n",
    "for x in myresult:\n",
    "  print(x)\n"
   ]
  },
  {
   "cell_type": "code",
   "execution_count": null,
   "metadata": {},
   "outputs": [],
   "source": []
  },
  {
   "cell_type": "code",
   "execution_count": null,
   "metadata": {},
   "outputs": [],
   "source": []
  },
  {
   "cell_type": "code",
   "execution_count": null,
   "metadata": {},
   "outputs": [],
   "source": []
  }
 ],
 "metadata": {
  "kernelspec": {
   "display_name": "Python 3",
   "language": "python",
   "name": "python3"
  },
  "language_info": {
   "codemirror_mode": {
    "name": "ipython",
    "version": 3
   },
   "file_extension": ".py",
   "mimetype": "text/x-python",
   "name": "python",
   "nbconvert_exporter": "python",
   "pygments_lexer": "ipython3",
   "version": "3.8.5"
  }
 },
 "nbformat": 4,
 "nbformat_minor": 4
}
