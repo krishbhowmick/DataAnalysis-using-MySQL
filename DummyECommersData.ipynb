{
 "cells": [
  {
   "cell_type": "markdown",
   "metadata": {},
   "source": [
    "# What are the SQL queries that you will use to get the below data points?\n",
    "\n",
    "1. Write a SQL query to get the second highest marks from Table 1. For example, given the the query should return 40 as the second highest marks. If there are no second highest marks, then the query should return null. Provide 2 different solutions for the above problem. ?\n",
    "2. Provide 2 different ways to find duplicate emails from Table 1 ?\n",
    "3. write a SQL query to find all dates/Ids with higher temperature compared to its previous dates ?\n",
    "4. Write a SQL query to find employees who have the highest salary in each of the departments in table 3. For the above tables, your SQL query should return the following rows (order of rows does not matter)  ?\n"
   ]
  },
  {
   "cell_type": "code",
   "execution_count": 16,
   "metadata": {},
   "outputs": [
    {
     "name": "stdout",
     "output_type": "stream",
     "text": [
      "<mysql.connector.connection_cext.CMySQLConnection object at 0x0000027EB59FFBB0>\n"
     ]
    }
   ],
   "source": [
    "#Creating Databases in MySQL\n",
    "\n",
    "import mysql.connector\n",
    "mydb = mysql.connector.connect(host=\"localhost\", user=\"root\",  password=\"#meKRISH30\")\n",
    "print(mydb)\n",
    "cursor = mydb.cursor()\n"
   ]
  },
  {
   "cell_type": "code",
   "execution_count": 17,
   "metadata": {},
   "outputs": [
    {
     "name": "stdout",
     "output_type": "stream",
     "text": [
      "('abc',)\n",
      "('business',)\n",
      "('cantilever',)\n",
      "('games2win',)\n",
      "('grofers',)\n",
      "('information_schema',)\n",
      "('krish',)\n",
      "('mysql',)\n",
      "('performance_schema',)\n",
      "('pharm_easy',)\n",
      "('sales',)\n",
      "('sys',)\n"
     ]
    }
   ],
   "source": [
    "cursor.execute('SHOW DATABASES')\n",
    "for database in cursor:\n",
    "    print(database)\n"
   ]
  },
  {
   "cell_type": "code",
   "execution_count": 18,
   "metadata": {},
   "outputs": [],
   "source": [
    "# sql_mode=only_full_group_by\n",
    "\n",
    "sql= \"SET sql_mode=(SELECT REPLACE(@@sql_mode,'ONLY_FULL_GROUP_BY',''))\"\n",
    "cursor.execute(sql)\n",
    "mydb.commit()"
   ]
  },
  {
   "cell_type": "code",
   "execution_count": 19,
   "metadata": {},
   "outputs": [],
   "source": [
    "# -selected database\n",
    "\n",
    "cursor.execute('use grofers')"
   ]
  },
  {
   "cell_type": "code",
   "execution_count": 20,
   "metadata": {},
   "outputs": [
    {
     "name": "stdout",
     "output_type": "stream",
     "text": [
      "('table1',)\n",
      "('table2',)\n",
      "('table3',)\n"
     ]
    }
   ],
   "source": [
    "#Show tables\n",
    "\n",
    "sql= \"show tables\"\n",
    "cursor.execute(sql)\n",
    "\n",
    "for database in cursor:\n",
    "    print(database)"
   ]
  },
  {
   "cell_type": "code",
   "execution_count": 21,
   "metadata": {},
   "outputs": [
    {
     "name": "stdout",
     "output_type": "stream",
     "text": [
      "('1', 'GRO 01', '10', 'a@grofers.com')\n",
      "('2', 'GRO 02', '20', 'b@grofers.com')\n",
      "('3', 'GRO 03', '30', 'c@grofers.com')\n",
      "('4', 'GRO 04', '40', 'c@grofers.com')\n",
      "('5', 'GRO 05', '45.5', 'd@grofers.com')\n"
     ]
    }
   ],
   "source": [
    "#0.1 #Q0  Table1.\n",
    "\n",
    "sql= \"select * from Table1 \"\n",
    "cursor.execute(sql)\n",
    "myresult= cursor.fetchall()\n",
    "\n",
    "for x in myresult:\n",
    "  print(x)"
   ]
  },
  {
   "cell_type": "code",
   "execution_count": 22,
   "metadata": {},
   "outputs": [
    {
     "name": "stdout",
     "output_type": "stream",
     "text": [
      "('1', '2018-03-01', '2020-02-01 20:20:20', '16')\n",
      "('2', '2018-05-03', '2020-02-02 07:40:30', '17')\n",
      "('3', '2018-06-04', '2020-02-03 12:10:50', '14')\n",
      "('4', '2018-07-05', '2020-02-04 10:50:42', '18')\n",
      "('5', '2018-08-06', '2020-02-05 17:30:40', '19')\n",
      "('6', '2018-09-07', '2020-02-06 19:26:46', '18')\n",
      "('7', '2018-11-15', '2020-02-07 15:36:56', '19')\n",
      "('8', '2019-10-24', '2020-02-08 05:30:06', '20')\n",
      "('9', '2020-07-01', None, '21')\n"
     ]
    }
   ],
   "source": [
    "#0.2 #Q0  Table2\n",
    "\n",
    "sql= \"select * from Table2 \"\n",
    "cursor.execute(sql)\n",
    "myresult= cursor.fetchall()   #fetchall() method, which fetches all rows from the last executed statement.\n",
    "\n",
    "for x in myresult:\n",
    "  print(x)"
   ]
  },
  {
   "cell_type": "code",
   "execution_count": 23,
   "metadata": {},
   "outputs": [
    {
     "name": "stdout",
     "output_type": "stream",
     "text": [
      "('1', 'Karan', '80000', '1')\n",
      "('2', 'Arjun', '70000', '2')\n",
      "('3', 'Vikram', '60000', '1')\n",
      "('4', 'Rahul', '50000', '2')\n",
      "('5', 'Jassi', '90000', '1')\n",
      "('6', 'Ajay', '20000', '1')\n",
      "('7', 'Bijay', '49000', '2')\n",
      "('8', 'karan', '57000', '1')\n",
      "('9', 'eftn', '30000', '2')\n",
      "('10', 'krish', '90000', '1')\n"
     ]
    }
   ],
   "source": [
    "#0.3 #Q0  Table3\n",
    "\n",
    "sql= \"select * from Table3 \"\n",
    "cursor.execute(sql)\n",
    "myresult= cursor.fetchall()   #fetchall() method, which fetches all rows from the last executed statement.\n",
    "\n",
    "for x in myresult:\n",
    "  print(x)"
   ]
  },
  {
   "cell_type": "code",
   "execution_count": 24,
   "metadata": {},
   "outputs": [
    {
     "name": "stdout",
     "output_type": "stream",
     "text": [
      "(2, '40')\n"
     ]
    }
   ],
   "source": [
    "#1.2  #Q1. Write a SQL query to get the second highest marks from Table 1. For example, given\n",
    "# the the query should return 40 as the second highest marks. If there are no second highest\n",
    "# marks, then the query should return null. Provide 2 different solutions for the above problem.\n",
    "\n",
    "sql= \"SELECT * from (select ROW_NUMBER() over(order by Marks desc) as rnk, Marks from table1)sub where rnk=2;\"\n",
    "cursor.execute(sql)\n",
    "myresult= cursor.fetchall()   #fetchall() method, which fetches all rows from the last executed statement.\n",
    "\n",
    "for x in myresult:\n",
    "  print(x)  "
   ]
  },
  {
   "cell_type": "code",
   "execution_count": 25,
   "metadata": {},
   "outputs": [
    {
     "name": "stdout",
     "output_type": "stream",
     "text": [
      "('3', '30', 'c@grofers.com')\n",
      "('4', '40', 'c@grofers.com')\n"
     ]
    }
   ],
   "source": [
    "#2.1 #Q2. Provide 2 different ways to find duplicate emails from Table 1.\n",
    "\n",
    "sql= \"select A.ID,A.Marks,A.Email from table1 as A inner join (select Email from table1 group by Email having count(Email)>1) as B on A.Email=B.Email ; \"\n",
    "cursor.execute(sql)\n",
    "myresult= cursor.fetchall()   #fetchall() method, which fetches all rows from the last executed statement.\n",
    "\n",
    "for x in myresult:\n",
    "  print(x)"
   ]
  },
  {
   "cell_type": "code",
   "execution_count": 26,
   "metadata": {},
   "outputs": [
    {
     "name": "stdout",
     "output_type": "stream",
     "text": [
      "('3', '30', 'c@grofers.com')\n",
      "('4', '40', 'c@grofers.com')\n"
     ]
    }
   ],
   "source": [
    "#2.2 #Q2. Provide 2 different ways to find duplicate emails from Table 1.\n",
    "\n",
    "sql= \" SELECT ID,Marks,Email FROM table1  WHERE Email in (SELECT Email FROM table1  GROUP BY Email  HAVING count(Email) > 1);\"\n",
    "cursor.execute(sql)\n",
    "myresult= cursor.fetchall()   #fetchall() method, which fetches all rows from the last executed statement.\n",
    "\n",
    "for x in myresult:\n",
    "  print(x)"
   ]
  },
  {
   "cell_type": "code",
   "execution_count": 27,
   "metadata": {},
   "outputs": [
    {
     "name": "stdout",
     "output_type": "stream",
     "text": [
      "('2', '2018-05-03', '17')\n",
      "('4', '2018-07-05', '18')\n",
      "('5', '2018-08-06', '19')\n",
      "('7', '2018-11-15', '19')\n",
      "('8', '2019-10-24', '20')\n",
      "('9', '2020-07-01', '21')\n"
     ]
    }
   ],
   "source": [
    "#  #Q3. Refer table 2, write a SQL query to find all dates/Ids with higher temperature compared\n",
    "# to its previous dates.\n",
    "\n",
    "\n",
    "#wrong\n",
    "sql= \" select ID,Date,Temperature from (select ID,Date,Temperature, LAG(Temperature,1,16) OVER(order by ID) as Temp2 from table2)sub where Temperature>Temp2\"\n",
    "cursor.execute(sql)\n",
    "myresult= cursor.fetchall()   #fetchall() method, which fetches all rows from the last executed statement.\n",
    "\n",
    "for x in myresult:\n",
    "  print(x)"
   ]
  },
  {
   "cell_type": "code",
   "execution_count": 28,
   "metadata": {},
   "outputs": [
    {
     "name": "stdout",
     "output_type": "stream",
     "text": [
      "(1, '1', 'Jassi', '90000')\n",
      "(1, '2', 'Arjun', '70000')\n"
     ]
    }
   ],
   "source": [
    "#  #Q4. Write a SQL query to find employees who have the highest salary in each of the \n",
    "#departments in table 3. For the above tables, your SQL query should return the following\n",
    "# rows (order of rows does not matter).\n",
    "\n",
    "sql= \"select * from (select ROW_NUMBER() OVER(PARTITION BY Department order by Salary desc) as rnk, Department,Name as Employee,Salary from table3) SUB where rnk=1  ; \"\n",
    "cursor.execute(sql)\n",
    "myresult= cursor.fetchall()   #fetchall() method, which fetches all rows from the last executed statement.\n",
    "\n",
    "for x in myresult:\n",
    "  print(x)"
   ]
  },
  {
   "cell_type": "code",
   "execution_count": 29,
   "metadata": {},
   "outputs": [
    {
     "name": "stdout",
     "output_type": "stream",
     "text": [
      "('1', 'Karan', '90000')\n",
      "('2', 'Arjun', '70000')\n"
     ]
    }
   ],
   "source": [
    "#  #Q4. Write a SQL query to find employees who have the highest salary in each of the \n",
    "#departments in table 3. For the above tables, your SQL query should return the following\n",
    "# rows (order of rows does not matter).\n",
    "\n",
    "sql= \"select Department,Name as Employee,max(Salary) as Salary from Table3 group by Department order by Salary desc ; \"\n",
    "cursor.execute(sql)\n",
    "myresult= cursor.fetchall()   #fetchall() method, which fetches all rows from the last executed statement.\n",
    "\n",
    "for x in myresult:\n",
    "  print(x)"
   ]
  },
  {
   "cell_type": "code",
   "execution_count": 35,
   "metadata": {},
   "outputs": [],
   "source": [
    "# What is Windo Function ?\n",
    "# Rank and Dense Rank Diff ?\n",
    "# What is Wild Card\n"
   ]
  },
  {
   "cell_type": "code",
   "execution_count": null,
   "metadata": {},
   "outputs": [],
   "source": []
  }
 ],
 "metadata": {
  "kernelspec": {
   "display_name": "Python 3",
   "language": "python",
   "name": "python3"
  },
  "language_info": {
   "codemirror_mode": {
    "name": "ipython",
    "version": 3
   },
   "file_extension": ".py",
   "mimetype": "text/x-python",
   "name": "python",
   "nbconvert_exporter": "python",
   "pygments_lexer": "ipython3",
   "version": "3.8.5"
  }
 },
 "nbformat": 4,
 "nbformat_minor": 4
}
