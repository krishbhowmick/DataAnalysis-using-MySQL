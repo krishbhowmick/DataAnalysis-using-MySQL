{
 "cells": [
  {
   "cell_type": "code",
   "execution_count": 21,
   "metadata": {},
   "outputs": [
    {
     "name": "stdout",
     "output_type": "stream",
     "text": [
      "<mysql.connector.connection_cext.CMySQLConnection object at 0x7fe3f2e60cc0>\n"
     ]
    }
   ],
   "source": [
    "#Creating Databases in MySQL\n",
    "\n",
    "import mysql.connector\n",
    "mydb = mysql.connector.connect(host=\"localhost\",  \n",
    "              user=\"*****\",  password=\"*******\")\n",
    "print(mydb)\n",
    "cursor = mydb.cursor()\n"
   ]
  },
  {
   "cell_type": "code",
   "execution_count": 22,
   "metadata": {},
   "outputs": [
    {
     "name": "stdout",
     "output_type": "stream",
     "text": [
      "('Games2Win',)\n",
      "('business',)\n",
      "('dummy',)\n",
      "('information_schema',)\n",
      "('krish',)\n",
      "('mysql',)\n",
      "('performance_schema',)\n",
      "('sales',)\n",
      "('songs',)\n",
      "('sys',)\n"
     ]
    }
   ],
   "source": [
    "cursor.execute('SHOW DATABASES')\n",
    "for database in cursor:\n",
    "    print(database)\n"
   ]
  },
  {
   "cell_type": "code",
   "execution_count": 23,
   "metadata": {},
   "outputs": [],
   "source": [
    "# -selected database\n",
    "\n",
    "cursor.execute('use sales')"
   ]
  },
  {
   "cell_type": "code",
   "execution_count": 24,
   "metadata": {},
   "outputs": [
    {
     "name": "stdout",
     "output_type": "stream",
     "text": [
      "('SALES',)\n",
      "('customers',)\n",
      "('date',)\n",
      "('markets',)\n",
      "('products',)\n",
      "('transactions',)\n"
     ]
    }
   ],
   "source": [
    "#Show tables\n",
    "\n",
    "sql= \"show tables\"\n",
    "cursor.execute(sql)\n",
    "\n",
    "for database in cursor:\n",
    "    print(database)"
   ]
  },
  {
   "cell_type": "code",
   "execution_count": 25,
   "metadata": {},
   "outputs": [],
   "source": [
    "# \n",
    "\n",
    "sql= \"SET sql_mode=(SELECT REPLACE(@@sql_mode,'ONLY_FULL_GROUP_BY',''))\"\n",
    "cursor.execute(sql)\n",
    "mydb.commit()"
   ]
  },
  {
   "cell_type": "code",
   "execution_count": 26,
   "metadata": {},
   "outputs": [
    {
     "name": "stdout",
     "output_type": "stream",
     "text": [
      "('Electricalsara Stores', 'Brick & Mortar', 'Delhi NCR', 'North', 'Distribution\\r', datetime.date(2017, 11, 1), 'November', 2017, 1, 245.0, 'INR\\r')\n",
      "('Electricalsara Stores', 'Brick & Mortar', 'Delhi NCR', 'North', 'Distribution\\r', datetime.date(2017, 11, 1), 'November', 2017, 1, 245.0, 'INR\\r')\n",
      "('Electricalsara Stores', 'Brick & Mortar', 'Delhi NCR', 'North', 'Distribution\\r', datetime.date(2017, 11, 1), 'November', 2017, 1, 245.0, 'INR\\r')\n",
      "('Electricalsara Stores', 'Brick & Mortar', 'Delhi NCR', 'North', 'Distribution\\r', datetime.date(2017, 11, 1), 'November', 2017, 1, 245.0, 'INR\\r')\n",
      "('Electricalsara Stores', 'Brick & Mortar', 'Delhi NCR', 'North', 'Distribution\\r', datetime.date(2017, 11, 1), 'November', 2017, 1, 245.0, 'INR\\r')\n",
      "('Electricalsara Stores', 'Brick & Mortar', 'Delhi NCR', 'North', 'Distribution\\r', datetime.date(2017, 11, 1), 'November', 2017, 1, 245.0, 'INR\\r')\n",
      "('Electricalsara Stores', 'Brick & Mortar', 'Delhi NCR', 'North', 'Distribution\\r', datetime.date(2017, 11, 1), 'November', 2017, 1, 245.0, 'INR\\r')\n",
      "('Electricalsara Stores', 'Brick & Mortar', 'Delhi NCR', 'North', 'Distribution\\r', datetime.date(2017, 11, 1), 'November', 2017, 1, 245.0, 'INR\\r')\n",
      "('Electricalsara Stores', 'Brick & Mortar', 'Delhi NCR', 'North', 'Distribution\\r', datetime.date(2017, 11, 1), 'November', 2017, 1, 245.0, 'INR\\r')\n",
      "('Electricalsara Stores', 'Brick & Mortar', 'Delhi NCR', 'North', 'Distribution\\r', datetime.date(2017, 11, 1), 'November', 2017, 1, 245.0, 'INR\\r')\n"
     ]
    }
   ],
   "source": [
    "# Query #0: \n",
    "\n",
    "\n",
    "sql= \"SELECT * FROM SALES limit 10\"\n",
    "cursor.execute(sql)\n",
    "myresult= cursor.fetchall()   #fetchall() method, which fetches all rows from the last executed statement.\n",
    "\n",
    "for x in myresult:\n",
    "  print(x)"
   ]
  },
  {
   "cell_type": "code",
   "execution_count": 27,
   "metadata": {},
   "outputs": [
    {
     "name": "stdout",
     "output_type": "stream",
     "text": [
      "(2017, 1, 'Electricalsara Stores', 7255594.0, 'Delhi NCR')\n",
      "(2017, 2, 'Logic Stores', 3220269.0, 'Mumbai')\n",
      "(2017, 3, 'Surface Stores', 2025602.0, 'Ahmedabad')\n",
      "(2018, 1, 'Electricalsara Stores', 23042007.0, 'Delhi NCR')\n",
      "(2018, 2, 'Nixon', 11173882.0, 'Delhi NCR')\n",
      "(2018, 3, 'Excel Stores', 6939012.0, 'Ahmedabad')\n",
      "(2019, 1, 'Electricalsara Stores', 41858960.0, 'Delhi NCR')\n",
      "(2019, 2, 'Info Stores', 24604329.0, 'Delhi NCR')\n",
      "(2019, 3, 'Logic Stores', 13277560.0, 'Mumbai')\n",
      "(2020, 1, 'Excel Stores', 10025361.0, 'Mumbai')\n",
      "(2020, 2, 'Nixon', 1651830.0, 'Nagpur')\n",
      "(2020, 3, 'Premium Stores', 1650120.0, 'Delhi NCR')\n"
     ]
    }
   ],
   "source": [
    "# Query #1: Top 3 customer's_revenue   year_wise with_location\n",
    "\n",
    "\n",
    "sql= \"SELECT * FROM (select year, ROW_NUMBER() OVER(PARTITION BY year ORDER BY sum(sales_amount) DESC) as ABC ,custmer_name, sum(sales_amount) as revenue, markets_name from SALES group by custmer_name, year) SUB WHERE ABC<=3\"\n",
    "cursor.execute(sql)\n",
    "myresult= cursor.fetchall()   #fetchall() method, which fetches all rows from the last executed statement.\n",
    "\n",
    "for x in myresult:\n",
    "  print(x)"
   ]
  },
  {
   "cell_type": "code",
   "execution_count": 28,
   "metadata": {},
   "outputs": [
    {
     "name": "stdout",
     "output_type": "stream",
     "text": [
      "(2017, 'December', 1, 'Electricalsara Stores', 7218784.0, 'Delhi NCR')\n",
      "(2017, 'December', 2, 'Logic Stores', 3154839.0, 'Mumbai')\n",
      "(2017, 'December', 3, 'Surface Stores', 2025602.0, 'Ahmedabad')\n",
      "(2017, 'November', 1, 'Nixon', 1664310.0, 'Delhi NCR')\n",
      "(2017, 'November', 2, 'Electricalsquipo Stores', 558180.0, 'Mumbai')\n",
      "(2017, 'November', 3, 'Premium Stores', 242280.0, 'Delhi NCR')\n",
      "(2018, 'August', 1, 'Nixon', 6339934.0, 'Nagpur')\n",
      "(2018, 'August', 2, 'Premium Stores', 1569654.0, 'Delhi NCR')\n",
      "(2018, 'August', 3, 'Excel Stores', 1423148.0, 'Ahmedabad')\n",
      "(2018, 'December', 1, 'Excel Stores', 24831.0, 'Ahmedabad')\n",
      "(2018, 'February', 1, 'Electricalsara Stores', 4731972.0, 'Delhi NCR')\n",
      "(2018, 'February', 2, 'Flawless Stores', 2301712.0, 'Mumbai')\n",
      "(2018, 'February', 3, 'Electricalslytical', 2225216.0, 'Mumbai')\n",
      "(2018, 'January', 1, 'Power', 41912.0, 'Nagpur')\n",
      "(2018, 'January', 2, 'Epic Stores', 22661.0, 'Nagpur')\n",
      "(2018, 'January', 3, 'Electricalslytical', 6603.0, 'Nagpur')\n",
      "(2018, 'June', 1, 'Electricalsara Stores', 4646130.0, 'Delhi NCR')\n",
      "(2018, 'June', 2, 'Excel Stores', 2633610.0, 'Ahmedabad')\n",
      "(2018, 'June', 3, 'Surge Stores', 2076390.0, 'Kochi')\n",
      "(2018, 'March', 1, 'Excel Stores', 764088.0, 'Ahmedabad')\n",
      "(2018, 'March', 2, 'Integration Stores', 542035.0, 'Ahmedabad')\n",
      "(2018, 'March', 3, 'Path', 524985.0, 'Mumbai')\n",
      "(2018, 'May', 1, 'Electricalslytical', 328662.0, 'Mumbai')\n",
      "(2018, 'May', 2, 'Nomad Stores', 216566.0, 'Mumbai')\n",
      "(2018, 'May', 3, 'Premium Stores', 137733.0, 'Delhi NCR')\n",
      "(2018, 'November', 1, 'Electricalsara Stores', 10546080.0, 'Delhi NCR')\n",
      "(2018, 'November', 2, 'Electricalslytical', 1986540.0, 'Mumbai')\n",
      "(2018, 'November', 3, 'Path', 121800.0, 'Mumbai')\n",
      "(2018, 'October', 1, 'Nixon', 4076779.0, 'Nagpur')\n",
      "(2018, 'October', 2, 'Electricalsocity', 2954176.0, 'Mumbai')\n",
      "(2018, 'October', 3, 'Excel Stores', 1735411.0, 'Ahmedabad')\n",
      "(2018, 'September', 1, 'Electricalsquipo Stores', 393750.0, 'Nagpur')\n",
      "(2019, 'April', 1, 'Electricalsara Stores', 3511380.0, 'Delhi NCR')\n",
      "(2019, 'April', 2, 'Surface Stores', 2957640.0, 'Ahmedabad')\n",
      "(2019, 'April', 3, 'Excel Stores', 2287200.0, 'Ahmedabad')\n",
      "(2019, 'August', 1, 'Electricalsara Stores', 6917247.0, 'Delhi NCR')\n",
      "(2019, 'August', 2, 'Modular', 5567197.0, 'Nagpur')\n",
      "(2019, 'August', 3, 'Electricalslytical', 4335536.0, 'Mumbai')\n",
      "(2019, 'February', 1, 'Electricalsara Stores', 4388104.0, 'Delhi NCR')\n",
      "(2019, 'February', 2, 'Surface Stores', 2692368.0, 'Kochi')\n",
      "(2019, 'February', 3, 'Logic Stores', 1696464.0, 'Mumbai')\n",
      "(2019, 'January', 1, 'Excel Stores', 8742.0, 'Ahmedabad')\n",
      "(2019, 'July', 1, 'Info Stores', 22526801.0, 'Delhi NCR')\n",
      "(2019, 'July', 2, 'Logic Stores', 9465695.0, 'Mumbai')\n",
      "(2019, 'July', 3, 'Electricalsara Stores', 4577088.0, 'Delhi NCR')\n",
      "(2019, 'June', 1, 'Path', 2005560.0, 'Mumbai')\n",
      "(2019, 'June', 2, 'Logic Stores', 503550.0, 'Mumbai')\n",
      "(2019, 'March', 1, 'Electricalsara Stores', 17063361.0, 'Delhi NCR')\n",
      "(2019, 'March', 2, 'Atlas Stores', 2371066.0, 'Ahmedabad')\n",
      "(2019, 'March', 3, 'Info Stores', 1746230.0, 'Delhi NCR')\n",
      "(2019, 'May', 1, 'Premium Stores', 154411.0, 'Mumbai')\n",
      "(2019, 'May', 2, 'Electricalslytical', 104780.0, 'Mumbai')\n",
      "(2019, 'May', 3, 'Nomad Stores', 98890.0, 'Mumbai')\n",
      "(2019, 'November', 1, 'Electricalsara Stores', 480840.0, 'Delhi NCR')\n",
      "(2019, 'November', 2, 'Electricalslytical', 311520.0, 'Mumbai')\n",
      "(2019, 'November', 3, 'Logic Stores', 124440.0, 'Mumbai')\n",
      "(2019, 'October', 1, 'Excel Stores', 9575993.0, 'Mumbai')\n",
      "(2019, 'October', 2, 'Electricalsara Stores', 4920940.0, 'Delhi NCR')\n",
      "(2019, 'October', 3, 'Surface Stores', 2556632.0, 'Kochi')\n",
      "(2020, 'April', 1, 'Excel Stores', 4909590.0, 'Ahmedabad')\n",
      "(2020, 'April', 2, 'Premium Stores', 1650120.0, 'Delhi NCR')\n",
      "(2020, 'April', 3, 'Nixon', 1588350.0, 'Nagpur')\n",
      "(2020, 'January', 1, 'Path', 133176.0, 'Nagpur')\n",
      "(2020, 'January', 2, 'Electricalslytical', 16368.0, 'Nagpur')\n",
      "(2020, 'June', 1, 'Excel Stores', 5087220.0, 'Mumbai')\n",
      "(2020, 'June', 2, 'Nomad Stores', 534600.0, 'Bhopal')\n",
      "(2020, 'June', 3, 'Info Stores', 426810.0, 'Bhopal')\n",
      "(2020, 'March', 1, 'Logic Stores', 372713.0, 'Mumbai')\n",
      "(2020, 'May', 1, 'Electricalslytical', 588163.0, 'Mumbai')\n",
      "(2020, 'May', 2, 'Excel Stores', 28551.0, 'Ahmedabad')\n"
     ]
    }
   ],
   "source": [
    "# Query #2: Top 3 customer's revenue  wise with month,year & location\n",
    "\n",
    "\n",
    "sql= \"SELECT * FROM (select year, month_name, ROW_NUMBER() OVER(PARTITION BY year, month_name ORDER BY sum(sales_amount) DESC) as ABC ,custmer_name, sum(sales_amount) as revenue, markets_name from SALES group by custmer_name, year, month_name) SUB WHERE ABC<=3 ;\"\n",
    "cursor.execute(sql)\n",
    "myresult= cursor.fetchall()   #fetchall() method, which fetches all rows from the last executed statement.\n",
    "\n",
    "for x in myresult:\n",
    "  print(x)"
   ]
  },
  {
   "cell_type": "code",
   "execution_count": 29,
   "metadata": {},
   "outputs": [
    {
     "name": "stdout",
     "output_type": "stream",
     "text": [
      "(2017, 1, 'Info Stores', 'Delhi NCR', Decimal('53041'))\n",
      "(2017, 2, 'Logic Stores', 'Mumbai', Decimal('25637'))\n",
      "(2017, 3, 'Excel Stores', 'Ahmedabad', Decimal('13020'))\n",
      "(2018, 1, 'Atlas Stores', 'Ahmedabad', Decimal('94350'))\n",
      "(2018, 2, 'Electricalsara Stores', 'Delhi NCR', Decimal('74648'))\n",
      "(2018, 3, 'Logic Stores', 'Mumbai', Decimal('41076'))\n",
      "(2019, 1, 'Info Stores', 'Delhi NCR', Decimal('107240'))\n",
      "(2019, 2, 'Electricalslytical', 'Mumbai', Decimal('82150'))\n",
      "(2019, 3, 'Info Stores', 'Delhi NCR', Decimal('69502'))\n",
      "(2020, 1, 'Premium Stores', 'Delhi NCR', Decimal('34710'))\n",
      "(2020, 2, 'Atlas Stores', 'Ahmedabad', Decimal('21270'))\n",
      "(2020, 3, 'Nomad Stores', 'Bhopal', Decimal('9180'))\n"
     ]
    }
   ],
   "source": [
    "# Query #3: Top 3 customer's_sales_qty year_wise with_location\n",
    "\n",
    "\n",
    "sql= \"SELECT * FROM (select year, ROW_NUMBER() OVER(PARTITION BY year ORDER BY sum(sales_qty) DESC) as ABC,custmer_name, markets_name, sum(sales_qty) as SalesQuality from SALES group by year, month_name, product_type) SUB WHERE ABC<=3\"\n",
    "cursor.execute(sql)\n",
    "myresult= cursor.fetchall()   #fetchall() method, which fetches all rows from the last executed statement.\n",
    "\n",
    "for x in myresult:\n",
    "  print(x)"
   ]
  },
  {
   "cell_type": "code",
   "execution_count": 30,
   "metadata": {},
   "outputs": [
    {
     "name": "stdout",
     "output_type": "stream",
     "text": [
      "(2017, 'December', 1, 'Info Stores', 'Delhi NCR', Decimal('53041'))\n",
      "(2017, 'December', 2, 'Logic Stores', 'Mumbai', Decimal('25637'))\n",
      "(2017, 'November', 1, 'Excel Stores', 'Ahmedabad', Decimal('13020'))\n",
      "(2017, 'November', 2, 'Electricalsara Stores', 'Delhi NCR', Decimal('1350'))\n",
      "(2018, 'August', 1, 'Electricalsara Stores', 'Delhi NCR', Decimal('74648'))\n",
      "(2018, 'August', 2, 'Excel Stores', 'Ahmedabad', Decimal('10261'))\n",
      "(2018, 'December', 1, 'Excel Stores', 'Ahmedabad', Decimal('62'))\n",
      "(2018, 'December', 2, 'Excel Stores', 'Ahmedabad', Decimal('62'))\n",
      "(2018, 'February', 1, 'Logic Stores', 'Mumbai', Decimal('41076'))\n",
      "(2018, 'February', 2, 'Logic Stores', 'Mumbai', Decimal('40096'))\n",
      "(2018, 'January', 1, 'Epic Stores', 'Nagpur', Decimal('248'))\n",
      "(2018, 'January', 2, 'Power', 'Nagpur', Decimal('124'))\n",
      "(2018, 'June', 1, 'Atlas Stores', 'Ahmedabad', Decimal('94350'))\n",
      "(2018, 'June', 2, 'Flawless Stores', 'Ahmedabad', Decimal('11490'))\n",
      "(2018, 'March', 1, 'Logic Stores', 'Mumbai', Decimal('15531'))\n",
      "(2018, 'March', 2, 'Synthetic', 'Bhopal', Decimal('6541'))\n",
      "(2018, 'May', 1, 'Premium Stores', 'Delhi NCR', Decimal('1705'))\n",
      "(2018, 'May', 2, 'Premium Stores', 'Delhi NCR', Decimal('1333'))\n",
      "(2018, 'November', 1, 'Electricalslytical', 'Mumbai', Decimal('12300'))\n",
      "(2018, 'November', 2, 'Electricalsara Stores', 'Delhi NCR', Decimal('6450'))\n",
      "(2018, 'October', 1, 'Logic Stores', 'Mumbai', Decimal('20367'))\n",
      "(2018, 'October', 2, 'Electricalsocity', 'Mumbai', Decimal('11346'))\n",
      "(2018, 'September', 1, 'Electricalsquipo Stores', 'Nagpur', Decimal('360'))\n",
      "(2019, 'April', 1, 'Electricalslytical', 'Mumbai', Decimal('64560'))\n",
      "(2019, 'April', 2, 'Premium Stores', 'Delhi NCR', Decimal('17520'))\n",
      "(2019, 'August', 1, 'Electricalsara Stores', 'Delhi NCR', Decimal('59272'))\n",
      "(2019, 'August', 2, 'Electricalsopedia Stores', 'Nagpur', Decimal('8246'))\n",
      "(2019, 'February', 1, 'Info Stores', 'Delhi NCR', Decimal('107240'))\n",
      "(2019, 'February', 2, 'Sage', 'Ahmedabad', Decimal('10668'))\n",
      "(2019, 'January', 1, 'Excel Stores', 'Ahmedabad', Decimal('31'))\n",
      "(2019, 'July', 1, 'Logic Stores', 'Mumbai', Decimal('40827'))\n",
      "(2019, 'July', 2, 'Info Stores', 'Delhi NCR', Decimal('32612'))\n",
      "(2019, 'June', 1, 'Logic Stores', 'Mumbai', Decimal('3090'))\n",
      "(2019, 'June', 2, 'Path', 'Mumbai', Decimal('1260'))\n",
      "(2019, 'March', 1, 'Info Stores', 'Delhi NCR', Decimal('69502'))\n",
      "(2019, 'March', 2, 'Info Stores', 'Delhi NCR', Decimal('14446'))\n",
      "(2019, 'May', 1, 'Electricalslytical', 'Mumbai', Decimal('403'))\n",
      "(2019, 'May', 2, 'Nomad Stores', 'Mumbai', Decimal('31'))\n",
      "(2019, 'November', 1, 'Electricalsara Stores', 'Delhi NCR', Decimal('6000'))\n",
      "(2019, 'November', 2, 'Logic Stores', 'Mumbai', Decimal('870'))\n",
      "(2019, 'October', 1, 'Electricalslytical', 'Mumbai', Decimal('82150'))\n",
      "(2019, 'October', 2, 'Electricalsopedia Stores', 'Nagpur', Decimal('35247'))\n",
      "(2020, 'April', 1, 'Premium Stores', 'Delhi NCR', Decimal('34710'))\n",
      "(2020, 'April', 2, 'Atlas Stores', 'Ahmedabad', Decimal('21270'))\n",
      "(2020, 'January', 1, 'Path', 'Nagpur', Decimal('558'))\n",
      "(2020, 'June', 1, 'Nomad Stores', 'Bhopal', Decimal('9180'))\n",
      "(2020, 'June', 2, 'Electricalsocity', 'Mumbai', Decimal('2550'))\n",
      "(2020, 'March', 1, 'Logic Stores', 'Mumbai', Decimal('1984'))\n",
      "(2020, 'May', 1, 'Excel Stores', 'Ahmedabad', Decimal('558'))\n",
      "(2020, 'May', 2, 'Electricalslytical', 'Mumbai', Decimal('310'))\n"
     ]
    }
   ],
   "source": [
    "# Query #4: Top 3 customers sales_qty with month year wise & location\n",
    "\n",
    "\n",
    "sql= \"SELECT * FROM (select year,month_name, ROW_NUMBER() OVER(PARTITION BY year, month_name ORDER BY sum(sales_qty) DESC) as ABC,custmer_name, markets_name, sum(sales_qty) as SalesQuality from SALES group by year, month_name, product_type) SUB WHERE ABC<=3\"\n",
    "cursor.execute(sql)\n",
    "myresult= cursor.fetchall()   #fetchall() method, which fetches all rows from the last executed statement.\n",
    "\n",
    "for x in myresult:\n",
    "  print(x)"
   ]
  },
  {
   "cell_type": "code",
   "execution_count": 31,
   "metadata": {},
   "outputs": [
    {
     "name": "stdout",
     "output_type": "stream",
     "text": [
      "(2017, 1, 'Delhi NCR', 9924722.0)\n",
      "(2017, 2, 'Mumbai', 4803326.0)\n",
      "(2017, 3, 'Ahmedabad', 4015126.0)\n",
      "(2018, 1, 'Delhi NCR', 36196501.0)\n",
      "(2018, 2, 'Mumbai', 14692276.0)\n",
      "(2018, 3, 'Ahmedabad', 11109400.0)\n",
      "(2019, 1, 'Delhi NCR', 70709958.0)\n",
      "(2019, 2, 'Mumbai', 39173850.0)\n",
      "(2019, 3, 'Nagpur', 20118503.0)\n",
      "(2020, 1, 'Mumbai', 7020498.0)\n",
      "(2020, 2, 'Ahmedabad', 6259221.0)\n",
      "(2020, 3, 'Delhi NCR', 3106830.0)\n"
     ]
    }
   ],
   "source": [
    "# Query #5: Top 3 location revenue wise with year \n",
    "\n",
    "\n",
    "sql= \"SELECT * FROM (select year, ROW_NUMBER() OVER(PARTITION BY year ORDER BY sum(sales_amount) DESC) as ABC ,markets_name, sum(sales_amount) as revenue from SALES group by markets_name, year) SUB WHERE ABC<=3\"\n",
    "cursor.execute(sql)\n",
    "myresult= cursor.fetchall()   #fetchall() method, which fetches all rows from the last executed statement.\n",
    "\n",
    "for x in myresult:\n",
    "  print(x)"
   ]
  },
  {
   "cell_type": "code",
   "execution_count": 32,
   "metadata": {},
   "outputs": [
    {
     "name": "stdout",
     "output_type": "stream",
     "text": [
      "(2017, 'December', 1, 'Delhi NCR', 7981322.0)\n",
      "(2017, 'December', 2, 'Mumbai', 4103036.0)\n",
      "(2017, 'December', 3, 'Ahmedabad', 3994846.0)\n",
      "(2017, 'November', 1, 'Delhi NCR', 1943400.0)\n",
      "(2017, 'November', 2, 'Mumbai', 700290.0)\n",
      "(2017, 'November', 3, 'Kanpur', 48600.0)\n",
      "(2018, 'August', 1, 'Delhi NCR', 7493940.0)\n",
      "(2018, 'August', 2, 'Nagpur', 2986261.0)\n",
      "(2018, 'August', 3, 'Ahmedabad', 1538809.0)\n",
      "(2018, 'December', 1, 'Ahmedabad', 24831.0)\n",
      "(2018, 'February', 1, 'Delhi NCR', 5517400.0)\n",
      "(2018, 'February', 2, 'Mumbai', 5121256.0)\n",
      "(2018, 'February', 3, 'Ahmedabad', 855148.0)\n",
      "(2018, 'January', 1, 'Nagpur', 71176.0)\n",
      "(2018, 'June', 1, 'Delhi NCR', 6087540.0)\n",
      "(2018, 'June', 2, 'Ahmedabad', 3474180.0)\n",
      "(2018, 'June', 3, 'Kochi', 2288190.0)\n",
      "(2018, 'March', 1, 'Ahmedabad', 1524084.0)\n",
      "(2018, 'March', 2, 'Nagpur', 1306309.0)\n",
      "(2018, 'March', 3, 'Mumbai', 1236745.0)\n",
      "(2018, 'May', 1, 'Mumbai', 629889.0)\n",
      "(2018, 'May', 2, 'Delhi NCR', 171213.0)\n",
      "(2018, 'November', 1, 'Delhi NCR', 10679970.0)\n",
      "(2018, 'November', 2, 'Mumbai', 2164170.0)\n",
      "(2018, 'November', 3, 'Kochi', 57510.0)\n",
      "(2018, 'October', 1, 'Delhi NCR', 5364395.0)\n",
      "(2018, 'October', 2, 'Ahmedabad', 3692348.0)\n",
      "(2018, 'October', 3, 'Mumbai', 3645352.0)\n",
      "(2018, 'September', 1, 'Nagpur', 393750.0)\n",
      "(2019, 'April', 1, 'Delhi NCR', 3868200.0)\n",
      "(2019, 'April', 2, 'Ahmedabad', 3090510.0)\n",
      "(2019, 'April', 3, 'Kochi', 2617110.0)\n",
      "(2019, 'August', 1, 'Nagpur', 7250962.0)\n",
      "(2019, 'August', 2, 'Delhi NCR', 7045246.0)\n",
      "(2019, 'August', 3, 'Mumbai', 3914618.0)\n",
      "(2019, 'February', 1, 'Delhi NCR', 5264728.0)\n",
      "(2019, 'February', 2, 'Kochi', 4358508.0)\n",
      "(2019, 'February', 3, 'Mumbai', 1693356.0)\n",
      "(2019, 'January', 1, 'Ahmedabad', 8742.0)\n",
      "(2019, 'July', 1, 'Delhi NCR', 27491234.0)\n",
      "(2019, 'July', 2, 'Mumbai', 10172836.0)\n",
      "(2019, 'July', 3, 'Nagpur', 4885693.0)\n",
      "(2019, 'June', 1, 'Mumbai', 2509110.0)\n",
      "(2019, 'March', 1, 'Delhi NCR', 19807357.0)\n",
      "(2019, 'March', 2, 'Ahmedabad', 4126751.0)\n",
      "(2019, 'March', 3, 'Mumbai', 3356184.0)\n",
      "(2019, 'May', 1, 'Mumbai', 348316.0)\n",
      "(2019, 'May', 2, 'Nagpur', 9765.0)\n",
      "(2019, 'November', 1, 'Delhi NCR', 533070.0)\n",
      "(2019, 'November', 2, 'Mumbai', 435960.0)\n",
      "(2019, 'October', 1, 'Mumbai', 14662070.0)\n",
      "(2019, 'October', 2, 'Delhi NCR', 6700123.0)\n",
      "(2019, 'October', 3, 'Nagpur', 4074082.0)\n",
      "(2020, 'April', 1, 'Ahmedabad', 6230670.0)\n",
      "(2020, 'April', 2, 'Delhi NCR', 3106830.0)\n",
      "(2020, 'April', 3, 'Bhopal', 1142190.0)\n",
      "(2020, 'January', 1, 'Nagpur', 149544.0)\n",
      "(2020, 'June', 1, 'Mumbai', 5445150.0)\n",
      "(2020, 'June', 2, 'Bhopal', 637380.0)\n",
      "(2020, 'June', 3, 'Nagpur', 211350.0)\n",
      "(2020, 'March', 1, 'Mumbai', 372713.0)\n",
      "(2020, 'May', 1, 'Mumbai', 571795.0)\n",
      "(2020, 'May', 2, 'Ahmedabad', 28551.0)\n",
      "(2020, 'May', 3, 'Nagpur', 16368.0)\n"
     ]
    }
   ],
   "source": [
    "# Query #6: Top 3 location revenue  wise with month,year \n",
    "\n",
    "\n",
    "sql= \"SELECT * FROM (select year, month_name, ROW_NUMBER() OVER(PARTITION BY year, month_name ORDER BY sum(sales_amount) DESC) as ABC , markets_name, sum(sales_amount) as revenue from SALES group by markets_name, year,month_name) SUB WHERE ABC<=3\"\n",
    "cursor.execute(sql)\n",
    "myresult= cursor.fetchall()   #fetchall() method, which fetches all rows from the last executed statement.\n",
    "\n",
    "for x in myresult:\n",
    "  print(x)"
   ]
  },
  {
   "cell_type": "code",
   "execution_count": 33,
   "metadata": {},
   "outputs": [
    {
     "name": "stdout",
     "output_type": "stream",
     "text": [
      "(2017, 1, 'Delhi NCR', Decimal('34000'))\n",
      "(2017, 2, 'Kochi', Decimal('20956'))\n",
      "(2017, 3, 'Nagpur', Decimal('10106'))\n",
      "(2018, 1, 'Delhi NCR', Decimal('117321'))\n",
      "(2018, 2, 'Kochi', Decimal('60664'))\n",
      "(2018, 3, 'Mumbai', Decimal('59937'))\n",
      "(2019, 1, 'Delhi NCR', Decimal('175824'))\n",
      "(2019, 2, 'Kochi', Decimal('167111'))\n",
      "(2019, 3, 'Nagpur', Decimal('97050'))\n",
      "(2020, 1, 'Delhi NCR', Decimal('25890'))\n",
      "(2020, 2, 'Mumbai', Decimal('17877'))\n",
      "(2020, 3, 'Ahmedabad', Decimal('14014'))\n"
     ]
    }
   ],
   "source": [
    "# Query #7: Top 3 locationr's_sales_qty year_wise \n",
    "\n",
    "sql= \"SELECT * FROM (select year, ROW_NUMBER() OVER(PARTITION BY year ORDER BY sum(sales_qty) DESC) as ABC, markets_name, sum(sales_qty) as SalesQuality from SALES group by year, markets_name) SUB WHERE ABC<=3\"\n",
    "cursor.execute(sql)\n",
    "myresult= cursor.fetchall()   \n",
    "\n",
    "for x in myresult:\n",
    "  print(x)"
   ]
  },
  {
   "cell_type": "code",
   "execution_count": 34,
   "metadata": {},
   "outputs": [
    {
     "name": "stdout",
     "output_type": "stream",
     "text": [
      "(2017, 'December', 1, 'Delhi NCR', Decimal('22630'))\n",
      "(2017, 'December', 2, 'Kochi', Decimal('20956'))\n",
      "(2017, 'December', 3, 'Nagpur', Decimal('10106'))\n",
      "(2017, 'November', 1, 'Delhi NCR', Decimal('11370'))\n",
      "(2017, 'November', 2, 'Mumbai', Decimal('2670'))\n",
      "(2017, 'November', 3, 'Kanpur', Decimal('240'))\n",
      "(2018, 'August', 1, 'Delhi NCR', Decimal('32550'))\n",
      "(2018, 'August', 2, 'Hyderabad', Decimal('17453'))\n",
      "(2018, 'August', 3, 'Nagpur', Decimal('13392'))\n",
      "(2018, 'December', 1, 'Ahmedabad', Decimal('124'))\n",
      "(2018, 'February', 1, 'Mumbai', Decimal('36092'))\n",
      "(2018, 'February', 2, 'Delhi NCR', Decimal('26936'))\n",
      "(2018, 'February', 3, 'Kochi', Decimal('7700'))\n",
      "(2018, 'January', 1, 'Nagpur', Decimal('372'))\n",
      "(2018, 'June', 1, 'Kochi', Decimal('41310'))\n",
      "(2018, 'June', 2, 'Delhi NCR', Decimal('30780'))\n",
      "(2018, 'June', 3, 'Nagpur', Decimal('10470'))\n",
      "(2018, 'March', 1, 'Nagpur', Decimal('5177'))\n",
      "(2018, 'March', 2, 'Hyderabad', Decimal('4557'))\n",
      "(2018, 'March', 3, 'Ahmedabad', Decimal('3782'))\n",
      "(2018, 'May', 1, 'Mumbai', Decimal('1829'))\n",
      "(2018, 'May', 2, 'Delhi NCR', Decimal('1209'))\n",
      "(2018, 'November', 1, 'Delhi NCR', Decimal('15120'))\n",
      "(2018, 'November', 2, 'Mumbai', Decimal('2640'))\n",
      "(2018, 'November', 3, 'Kochi', Decimal('990'))\n",
      "(2018, 'October', 1, 'Delhi NCR', Decimal('8773'))\n",
      "(2018, 'October', 2, 'Ahmedabad', Decimal('7719'))\n",
      "(2018, 'October', 3, 'Nagpur', Decimal('5952'))\n",
      "(2018, 'September', 1, 'Nagpur', Decimal('360'))\n",
      "(2019, 'April', 1, 'Kochi', Decimal('52800'))\n",
      "(2019, 'April', 2, 'Nagpur', Decimal('9300'))\n",
      "(2019, 'April', 3, 'Delhi NCR', Decimal('7800'))\n",
      "(2019, 'August', 1, 'Nagpur', Decimal('39339'))\n",
      "(2019, 'August', 2, 'Delhi NCR', Decimal('12958'))\n",
      "(2019, 'August', 3, 'Mumbai', Decimal('4278'))\n",
      "(2019, 'February', 1, 'Kochi', Decimal('84644'))\n",
      "(2019, 'February', 2, 'Delhi NCR', Decimal('19096'))\n",
      "(2019, 'February', 3, 'Ahmedabad', Decimal('4872'))\n",
      "(2019, 'January', 1, 'Ahmedabad', Decimal('31'))\n",
      "(2019, 'July', 1, 'Delhi NCR', Decimal('40455'))\n",
      "(2019, 'July', 2, 'Nagpur', Decimal('20925'))\n",
      "(2019, 'July', 3, 'Mumbai', Decimal('8339'))\n",
      "(2019, 'June', 1, 'Mumbai', Decimal('4350'))\n",
      "(2019, 'March', 1, 'Delhi NCR', Decimal('51088'))\n",
      "(2019, 'March', 2, 'Ahmedabad', Decimal('6355'))\n",
      "(2019, 'March', 3, 'Nagpur', Decimal('6076'))\n",
      "(2019, 'May', 1, 'Mumbai', Decimal('403'))\n",
      "(2019, 'May', 2, 'Nagpur', Decimal('31'))\n",
      "(2019, 'November', 1, 'Delhi NCR', Decimal('5460'))\n",
      "(2019, 'November', 2, 'Mumbai', Decimal('1410'))\n",
      "(2019, 'October', 1, 'Delhi NCR', Decimal('38967'))\n",
      "(2019, 'October', 2, 'Mumbai', Decimal('31527'))\n",
      "(2019, 'October', 3, 'Kochi', Decimal('21173'))\n",
      "(2020, 'April', 1, 'Delhi NCR', Decimal('25890'))\n",
      "(2020, 'April', 2, 'Ahmedabad', Decimal('13890'))\n",
      "(2020, 'April', 3, 'Mumbai', Decimal('6510'))\n",
      "(2020, 'January', 1, 'Nagpur', Decimal('558'))\n",
      "(2020, 'June', 1, 'Mumbai', Decimal('8670'))\n",
      "(2020, 'June', 2, 'Bhopal', Decimal('1530'))\n",
      "(2020, 'June', 3, 'Nagpur', Decimal('960'))\n",
      "(2020, 'March', 1, 'Mumbai', Decimal('1984'))\n",
      "(2020, 'May', 1, 'Mumbai', Decimal('713'))\n",
      "(2020, 'May', 2, 'Ahmedabad', Decimal('124'))\n",
      "(2020, 'May', 3, 'Nagpur', Decimal('31'))\n"
     ]
    }
   ],
   "source": [
    "# Query #8: Top 3 location sales_qty with month year wise\n",
    "\n",
    "sql= \"SELECT * FROM (select year,month_name, ROW_NUMBER() OVER(PARTITION BY year, month_name ORDER BY sum(sales_qty) DESC) as ABC, markets_name, sum(sales_qty) as SalesQuality from SALES group by year, month_name, markets_name) SUB WHERE ABC<=3 \"\n",
    "cursor.execute(sql)\n",
    "myresult= cursor.fetchall()   \n",
    "\n",
    "for x in myresult:\n",
    "  print(x)"
   ]
  },
  {
   "cell_type": "code",
   "execution_count": 35,
   "metadata": {},
   "outputs": [
    {
     "name": "stdout",
     "output_type": "stream",
     "text": [
      "(2017, 'Own Brand\\r', 1, 17728053.0)\n",
      "(2017, 'Distribution\\r', 2, 7831703.0)\n",
      "(2018, 'Own Brand\\r', 1, 57090063.0)\n",
      "(2018, 'Distribution\\r', 2, 25271306.0)\n",
      "(2019, 'Own Brand\\r', 1, 111670075.0)\n",
      "(2019, 'Distribution\\r', 2, 47938545.0)\n",
      "(2020, 'Own Brand\\r', 1, 12483825.0)\n",
      "(2020, 'Distribution\\r', 2, 7056846.0)\n"
     ]
    }
   ],
   "source": [
    "# Query #9: Top 3 products revenue wise with year \n",
    "\n",
    "sql= \"SELECT * FROM (select year, product_type, ROW_NUMBER() OVER(PARTITION BY year ORDER BY sum(sales_amount) DESC) as ABC, sum(sales_amount) as revenue from SALES group by year, product_type) SUB WHERE ABC<=3\"\n",
    "cursor.execute(sql)\n",
    "myresult= cursor.fetchall()   \n",
    "\n",
    "for x in myresult:\n",
    "  print(x)"
   ]
  },
  {
   "cell_type": "code",
   "execution_count": 36,
   "metadata": {},
   "outputs": [
    {
     "name": "stdout",
     "output_type": "stream",
     "text": [
      "(2017, 'December', 1, 'Own Brand\\r', 15329283.0)\n",
      "(2017, 'December', 2, 'Distribution\\r', 7517903.0)\n",
      "(2017, 'November', 1, 'Own Brand\\r', 2398770.0)\n",
      "(2017, 'November', 2, 'Distribution\\r', 313800.0)\n",
      "(2018, 'August', 1, 'Own Brand\\r', 11709599.0)\n",
      "(2018, 'August', 2, 'Distribution\\r', 3938736.0)\n",
      "(2018, 'December', 1, 'Own Brand\\r', 13919.0)\n",
      "(2018, 'December', 2, 'Distribution\\r', 10912.0)\n",
      "(2018, 'February', 1, 'Own Brand\\r', 8371048.0)\n",
      "(2018, 'February', 2, 'Distribution\\r', 5560604.0)\n",
      "(2018, 'January', 1, 'Own Brand\\r', 59272.0)\n",
      "(2018, 'January', 2, 'Distribution\\r', 11904.0)\n",
      "(2018, 'June', 1, 'Own Brand\\r', 14382750.0)\n",
      "(2018, 'June', 2, 'Distribution\\r', 2840520.0)\n",
      "(2018, 'March', 1, 'Own Brand\\r', 3910681.0)\n",
      "(2018, 'March', 2, 'Distribution\\r', 2293380.0)\n",
      "(2018, 'May', 1, 'Distribution\\r', 471138.0)\n",
      "(2018, 'May', 2, 'Own Brand\\r', 329964.0)\n",
      "(2018, 'November', 1, 'Own Brand\\r', 10939170.0)\n",
      "(2018, 'November', 2, 'Distribution\\r', 1962480.0)\n",
      "(2018, 'October', 1, 'Distribution\\r', 7787882.0)\n",
      "(2018, 'October', 2, 'Own Brand\\r', 7373660.0)\n",
      "(2018, 'September', 1, 'Distribution\\r', 393750.0)\n",
      "(2019, 'April', 1, 'Distribution\\r', 7081590.0)\n",
      "(2019, 'April', 2, 'Own Brand\\r', 6085770.0)\n",
      "(2019, 'August', 1, 'Own Brand\\r', 19180010.0)\n",
      "(2019, 'August', 2, 'Distribution\\r', 2743624.0)\n",
      "(2019, 'February', 1, 'Own Brand\\r', 14101808.0)\n",
      "(2019, 'February', 2, 'Distribution\\r', 1961820.0)\n",
      "(2019, 'January', 1, 'Own Brand\\r', 8742.0)\n",
      "(2019, 'July', 1, 'Distribution\\r', 24209915.0)\n",
      "(2019, 'July', 2, 'Own Brand\\r', 19431575.0)\n",
      "(2019, 'June', 1, 'Own Brand\\r', 1792320.0)\n",
      "(2019, 'June', 2, 'Distribution\\r', 716790.0)\n",
      "(2019, 'March', 1, 'Own Brand\\r', 25298139.0)\n",
      "(2019, 'March', 2, 'Distribution\\r', 5635583.0)\n",
      "(2019, 'May', 1, 'Own Brand\\r', 349897.0)\n",
      "(2019, 'May', 2, 'Distribution\\r', 8184.0)\n",
      "(2019, 'November', 1, 'Distribution\\r', 662610.0)\n",
      "(2019, 'November', 2, 'Own Brand\\r', 306420.0)\n",
      "(2019, 'October', 1, 'Own Brand\\r', 25115394.0)\n",
      "(2019, 'October', 2, 'Distribution\\r', 4918429.0)\n",
      "(2020, 'April', 1, 'Own Brand\\r', 6069390.0)\n",
      "(2020, 'April', 2, 'Distribution\\r', 5966220.0)\n",
      "(2020, 'January', 1, 'Own Brand\\r', 149544.0)\n",
      "(2020, 'June', 1, 'Own Brand\\r', 5751810.0)\n",
      "(2020, 'June', 2, 'Distribution\\r', 614280.0)\n",
      "(2020, 'March', 1, 'Distribution\\r', 372713.0)\n",
      "(2020, 'May', 1, 'Own Brand\\r', 513081.0)\n",
      "(2020, 'May', 2, 'Distribution\\r', 103633.0)\n"
     ]
    }
   ],
   "source": [
    "# Query #10: Top 3 products revenue  wise with month,year \n",
    "\n",
    "sql= \"SELECT * FROM (select year, month_name, ROW_NUMBER() OVER(PARTITION BY year,month_name ORDER BY sum(sales_amount) DESC) as ABC, product_type, sum(sales_amount) as revenue from SALES group by year, month_name, product_type) SUB WHERE ABC<=3 \"\n",
    "cursor.execute(sql)\n",
    "myresult= cursor.fetchall()   \n",
    "\n",
    "for x in myresult:\n",
    "  print(x)"
   ]
  },
  {
   "cell_type": "code",
   "execution_count": 37,
   "metadata": {},
   "outputs": [
    {
     "name": "stdout",
     "output_type": "stream",
     "text": [
      "(2017, 1, 'Delhi NCR', 'Distribution\\r', Decimal('26987'))\n",
      "(2017, 1, 'Delhi NCR', 'Own Brand\\r', Decimal('66061'))\n",
      "(2018, 1, 'Mumbai', 'Distribution\\r', Decimal('89415'))\n",
      "(2018, 1, 'Mumbai', 'Own Brand\\r', Decimal('258935'))\n",
      "(2019, 1, 'Delhi NCR', 'Distribution\\r', Decimal('127860'))\n",
      "(2019, 1, 'Delhi NCR', 'Own Brand\\r', Decimal('426115'))\n",
      "(2020, 1, 'Ahmedabad', 'Distribution\\r', Decimal('26362'))\n",
      "(2020, 1, 'Mumbai', 'Own Brand\\r', Decimal('44758'))\n"
     ]
    }
   ],
   "source": [
    "# Query #11: Top 3 products_sales_qty year_wise  \n",
    "\n",
    "sql= \"SELECT * FROM (select year, ROW_NUMBER() OVER(PARTITION BY year,product_type ORDER BY sum(sales_qty) DESC) as ABC, markets_name,product_type, sum(sales_qty) as SalesQuality from SALES group by year, product_type) SUB WHERE ABC<=3 \"\n",
    "cursor.execute(sql)\n",
    "myresult= cursor.fetchall()   \n",
    "\n",
    "for x in myresult:\n",
    "  print(x)"
   ]
  },
  {
   "cell_type": "code",
   "execution_count": 38,
   "metadata": {},
   "outputs": [
    {
     "name": "stdout",
     "output_type": "stream",
     "text": [
      "(2017, 'December', 1, 'Mumbai', 'Distribution\\r', Decimal('25637'))\n",
      "(2017, 'December', 1, 'Delhi NCR', 'Own Brand\\r', Decimal('53041'))\n",
      "(2017, 'November', 1, 'Delhi NCR', 'Distribution\\r', Decimal('1350'))\n",
      "(2017, 'November', 1, 'Ahmedabad', 'Own Brand\\r', Decimal('13020'))\n",
      "(2018, 'August', 1, 'Ahmedabad', 'Distribution\\r', Decimal('10261'))\n",
      "(2018, 'August', 1, 'Delhi NCR', 'Own Brand\\r', Decimal('74648'))\n",
      "(2018, 'December', 1, 'Ahmedabad', 'Distribution\\r', Decimal('62'))\n",
      "(2018, 'December', 1, 'Ahmedabad', 'Own Brand\\r', Decimal('62'))\n",
      "(2018, 'February', 1, 'Mumbai', 'Distribution\\r', Decimal('41076'))\n",
      "(2018, 'February', 1, 'Mumbai', 'Own Brand\\r', Decimal('40096'))\n",
      "(2018, 'January', 1, 'Nagpur', 'Distribution\\r', Decimal('124'))\n",
      "(2018, 'January', 1, 'Nagpur', 'Own Brand\\r', Decimal('248'))\n",
      "(2018, 'June', 1, 'Ahmedabad', 'Distribution\\r', Decimal('11490'))\n",
      "(2018, 'June', 1, 'Ahmedabad', 'Own Brand\\r', Decimal('94350'))\n",
      "(2018, 'March', 1, 'Bhopal', 'Distribution\\r', Decimal('6541'))\n",
      "(2018, 'March', 1, 'Mumbai', 'Own Brand\\r', Decimal('15531'))\n",
      "(2018, 'May', 1, 'Delhi NCR', 'Distribution\\r', Decimal('1705'))\n",
      "(2018, 'May', 1, 'Delhi NCR', 'Own Brand\\r', Decimal('1333'))\n",
      "(2018, 'November', 1, 'Delhi NCR', 'Distribution\\r', Decimal('6450'))\n",
      "(2018, 'November', 1, 'Mumbai', 'Own Brand\\r', Decimal('12300'))\n",
      "(2018, 'October', 1, 'Mumbai', 'Distribution\\r', Decimal('11346'))\n",
      "(2018, 'October', 1, 'Mumbai', 'Own Brand\\r', Decimal('20367'))\n",
      "(2018, 'September', 1, 'Nagpur', 'Distribution\\r', Decimal('360'))\n",
      "(2019, 'April', 1, 'Delhi NCR', 'Distribution\\r', Decimal('17520'))\n",
      "(2019, 'April', 1, 'Mumbai', 'Own Brand\\r', Decimal('64560'))\n",
      "(2019, 'August', 1, 'Nagpur', 'Distribution\\r', Decimal('8246'))\n",
      "(2019, 'August', 1, 'Delhi NCR', 'Own Brand\\r', Decimal('59272'))\n",
      "(2019, 'February', 1, 'Ahmedabad', 'Distribution\\r', Decimal('10668'))\n",
      "(2019, 'February', 1, 'Delhi NCR', 'Own Brand\\r', Decimal('107240'))\n",
      "(2019, 'January', 1, 'Ahmedabad', 'Own Brand\\r', Decimal('31'))\n",
      "(2019, 'July', 1, 'Delhi NCR', 'Distribution\\r', Decimal('32612'))\n",
      "(2019, 'July', 1, 'Mumbai', 'Own Brand\\r', Decimal('40827'))\n",
      "(2019, 'June', 1, 'Mumbai', 'Distribution\\r', Decimal('3090'))\n",
      "(2019, 'June', 1, 'Mumbai', 'Own Brand\\r', Decimal('1260'))\n",
      "(2019, 'March', 1, 'Delhi NCR', 'Distribution\\r', Decimal('14446'))\n",
      "(2019, 'March', 1, 'Delhi NCR', 'Own Brand\\r', Decimal('69502'))\n",
      "(2019, 'May', 1, 'Mumbai', 'Distribution\\r', Decimal('31'))\n",
      "(2019, 'May', 1, 'Mumbai', 'Own Brand\\r', Decimal('403'))\n",
      "(2019, 'November', 1, 'Delhi NCR', 'Distribution\\r', Decimal('6000'))\n",
      "(2019, 'November', 1, 'Mumbai', 'Own Brand\\r', Decimal('870'))\n",
      "(2019, 'October', 1, 'Nagpur', 'Distribution\\r', Decimal('35247'))\n",
      "(2019, 'October', 1, 'Mumbai', 'Own Brand\\r', Decimal('82150'))\n",
      "(2020, 'April', 1, 'Ahmedabad', 'Distribution\\r', Decimal('21270'))\n",
      "(2020, 'April', 1, 'Delhi NCR', 'Own Brand\\r', Decimal('34710'))\n",
      "(2020, 'January', 1, 'Nagpur', 'Own Brand\\r', Decimal('558'))\n",
      "(2020, 'June', 1, 'Mumbai', 'Distribution\\r', Decimal('2550'))\n",
      "(2020, 'June', 1, 'Bhopal', 'Own Brand\\r', Decimal('9180'))\n",
      "(2020, 'March', 1, 'Mumbai', 'Distribution\\r', Decimal('1984'))\n",
      "(2020, 'May', 1, 'Ahmedabad', 'Distribution\\r', Decimal('558'))\n",
      "(2020, 'May', 1, 'Mumbai', 'Own Brand\\r', Decimal('310'))\n"
     ]
    }
   ],
   "source": [
    "# Query #12: Top 3 products sales_qty  with month year wise\n",
    "\n",
    "sql= \"SELECT * FROM (select year, month_name, ROW_NUMBER() OVER(PARTITION BY year,month_name,product_type ORDER BY sum(sales_qty) DESC) as ABC, markets_name,product_type, sum(sales_qty) as SalesQuality from SALES group by year,month_name, product_type) SUB WHERE ABC<=3\"\n",
    "cursor.execute(sql)\n",
    "myresult= cursor.fetchall()   \n",
    "\n",
    "for x in myresult:\n",
    "  print(x)"
   ]
  },
  {
   "cell_type": "code",
   "execution_count": null,
   "metadata": {},
   "outputs": [],
   "source": []
  },
  {
   "cell_type": "code",
   "execution_count": null,
   "metadata": {},
   "outputs": [],
   "source": []
  },
  {
   "cell_type": "code",
   "execution_count": null,
   "metadata": {},
   "outputs": [],
   "source": []
  }
 ],
 "metadata": {
  "kernelspec": {
   "display_name": "Python 3",
   "language": "python",
   "name": "python3"
  },
  "language_info": {
   "codemirror_mode": {
    "name": "ipython",
    "version": 3
   },
   "file_extension": ".py",
   "mimetype": "text/x-python",
   "name": "python",
   "nbconvert_exporter": "python",
   "pygments_lexer": "ipython3",
   "version": "3.6.9"
  }
 },
 "nbformat": 4,
 "nbformat_minor": 4
}
