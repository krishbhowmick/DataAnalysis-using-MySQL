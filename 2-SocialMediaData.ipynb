{
 "cells": [
  {
   "cell_type": "markdown",
   "metadata": {},
   "source": [
    "# What are the SQL queries that you will use to get the below data points?\n",
    "\n",
    "1. calculate how many users are there in each house ?\n",
    "2. How many users(show name) follow by each user ?\n",
    "3. Make a list that connect before 2015, after 2016, between 2014-2018, on 2018 with concate name?\n",
    "4. Who are the users, whose name finish with 'k' ?\n",
    "5. Tell me the details of the person, who age is maximum ?\n",
    "6. Catagory of age where (<30=1) (30-40=2) (>40=3).\n",
    "7. Tell me the details of the users, whose age is highest in each dept?\n",
    "8. How many users are there, whose age is same?\n",
    "9. Tell me the time intervel one user connect with another integer?"
   ]
  },
  {
   "cell_type": "code",
   "execution_count": 30,
   "metadata": {},
   "outputs": [
    {
     "name": "stdout",
     "output_type": "stream",
     "text": [
      "<mysql.connector.connection_cext.CMySQLConnection object at 0x0000023CCCAD3C70>\n"
     ]
    }
   ],
   "source": [
    "#Creating Databases in MySQL\n",
    "\n",
    "import mysql.connector\n",
    "mydb = mysql.connector.connect(host=\"localhost\",  \n",
    "              user=\"****\",  password=\"*********\")\n",
    "print(mydb)\n",
    "cursor = mydb.cursor()\n"
   ]
  },
  {
   "cell_type": "code",
   "execution_count": 31,
   "metadata": {},
   "outputs": [
    {
     "name": "stdout",
     "output_type": "stream",
     "text": [
      "('abc',)\n",
      "('business',)\n",
      "('cantilever',)\n",
      "('games2win',)\n",
      "('grofers',)\n",
      "('information_schema',)\n",
      "('krish',)\n",
      "('mysql',)\n",
      "('performance_schema',)\n",
      "('pharm_easy',)\n",
      "('sales',)\n",
      "('sys',)\n"
     ]
    }
   ],
   "source": [
    "cursor.execute('SHOW DATABASES')\n",
    "for database in cursor:\n",
    "    print(database)\n"
   ]
  },
  {
   "cell_type": "code",
   "execution_count": 32,
   "metadata": {},
   "outputs": [],
   "source": [
    "# sql_mode=only_full_group_by\n",
    "\n",
    "sql= \"SET sql_mode=(SELECT REPLACE(@@sql_mode,'ONLY_FULL_GROUP_BY',''))\"\n",
    "cursor.execute(sql)\n",
    "mydb.commit()"
   ]
  },
  {
   "cell_type": "code",
   "execution_count": 33,
   "metadata": {},
   "outputs": [],
   "source": [
    "# -selected database\n",
    "\n",
    "cursor.execute('use pharm_easy')"
   ]
  },
  {
   "cell_type": "code",
   "execution_count": 34,
   "metadata": {},
   "outputs": [
    {
     "name": "stdout",
     "output_type": "stream",
     "text": [
      "('employees',)\n",
      "('follows',)\n",
      "('users',)\n"
     ]
    }
   ],
   "source": [
    "#Show tables\n",
    "\n",
    "sql= \"show tables\"\n",
    "cursor.execute(sql)\n",
    "\n",
    "for database in cursor:\n",
    "    print(database)"
   ]
  },
  {
   "cell_type": "code",
   "execution_count": 35,
   "metadata": {},
   "outputs": [
    {
     "name": "stdout",
     "output_type": "stream",
     "text": [
      "('1101', 'Debabrata', 'Maiti', 'BRAK')\n",
      "('1102', 'Anil', 'Sethi', 'BRAK')\n",
      "('1103', 'Tilak', 'Maiti', 'BRAK')\n",
      "('1104', 'Krish', 'Bhow', 'BRAK')\n",
      "('1105', 'Babu', 'Bhow', 'APJAK')\n",
      "('1106', 'Bablu', 'Bhow', 'APJAK')\n",
      "('1107', 'Mrinjoy', 'Goy', 'APJAK')\n",
      "('1108', 'Mourav', 'Mebsarma', 'APJAK')\n",
      "('1109', 'Marayan', 'Bhow', 'APJAK')\n",
      "('1110', 'Samares', 'Maji', 'JLN')\n",
      "('1111', 'Amitosh', 'Das', 'JLN')\n",
      "('1112', 'Anup', 'Patra', 'JLN')\n",
      "('1113', 'Mipti', 'Bhow', 'NSCB')\n",
      "('1114', 'Bratati', 'Samanta', 'NSCB')\n",
      "('1115', 'Shyama', 'Lal', 'NSCB')\n",
      "('1116', 'Arisn', 'Ak', 'NSCB')\n"
     ]
    }
   ],
   "source": [
    "#0.1 #Q0  Table_users\n",
    "\n",
    "sql= \"select * from users \"\n",
    "cursor.execute(sql)\n",
    "myresult= cursor.fetchall()\n",
    "\n",
    "for x in myresult:\n",
    "  print(x)"
   ]
  },
  {
   "cell_type": "code",
   "execution_count": 36,
   "metadata": {},
   "outputs": [
    {
     "name": "stdout",
     "output_type": "stream",
     "text": [
      "('1101', '1102', '2010-04-21 13:35:20')\n",
      "('1101', '1105', '2014-07-27 12:35:50')\n",
      "('1101', '1110', '2018-01-27 18:15:20')\n",
      "('1101', '1115', '2016-07-07 19:45:40')\n",
      "('1102', '1116', '2018-04-16 20:05:20')\n",
      "('1102', '1109', '2015-11-19 22:45:20')\n",
      "('1102', '1106', '2013-03-13 23:42:20')\n",
      "('1102', '1103', '2011-09-15 13:22:40')\n"
     ]
    }
   ],
   "source": [
    "#0.1 #Q0  Table_follows\n",
    "\n",
    "sql= \"select * from follows \"\n",
    "cursor.execute(sql)\n",
    "myresult= cursor.fetchall()\n",
    "\n",
    "for x in myresult:\n",
    "  print(x)"
   ]
  },
  {
   "cell_type": "code",
   "execution_count": 37,
   "metadata": {},
   "outputs": [
    {
     "name": "stdout",
     "output_type": "stream",
     "text": [
      "('1401', 'D Maiti', '140000', 'Prof', '42')\n",
      "('1402', 'Amit Sethi', '100000', 'Prof', '39')\n",
      "('1403', 'Tilak Maiti', '40000', 'Prof', '29')\n",
      "('1404', 'Krish Nendu', '70000', 'Prof', '27')\n",
      "('1405', 'Babu', '60000', 'Engineer', '26')\n",
      "('1406', 'Bablu', '120000', 'Engineer', '56')\n",
      "('1407', 'Srinjoy', '80000', 'Engineer', '25')\n",
      "('1408', 'Samu', '80000', 'Engineer', '58')\n",
      "('1409', 'Narayan', '50000', 'Doct', '68')\n",
      "('1410', 'Samares', '20000', 'Doct', '35')\n",
      "('1411', 'Amitosh', '40000', 'Doct', '27')\n",
      "('1412', 'Anup', '30000', 'Doct', '32')\n",
      "('1413', 'Tripti', '40000', 'Techer', '35')\n",
      "('1414', 'Bratati', '37000', 'Techer', '41')\n",
      "('1415', 'Hedu', '60000', 'Techer', '58')\n",
      "('1416', 'Moinag', '29000', 'Techer', '29')\n"
     ]
    }
   ],
   "source": [
    "#0.1 #Q0  Table_employees\n",
    "\n",
    "sql= \"select * from employees \"\n",
    "cursor.execute(sql)\n",
    "myresult= cursor.fetchall()\n",
    "\n",
    "for x in myresult:\n",
    "  print(x)"
   ]
  },
  {
   "cell_type": "code",
   "execution_count": 38,
   "metadata": {},
   "outputs": [
    {
     "name": "stdout",
     "output_type": "stream",
     "text": [
      "('BRAK', 4)\n",
      "('APJAK', 5)\n",
      "('JLN', 3)\n",
      "('NSCB', 4)\n"
     ]
    }
   ],
   "source": [
    "#1 #calculate how many users are there in each house .\n",
    "\n",
    "sql= \"select house,count(user_id) as count from users group by house ;\"\n",
    "cursor.execute(sql)\n",
    "myresult= cursor.fetchall()   #fetchall() method, which fetches all rows from the last executed statement.\n",
    "\n",
    "for x in myresult:\n",
    "  print(x)"
   ]
  },
  {
   "cell_type": "code",
   "execution_count": 39,
   "metadata": {},
   "outputs": [
    {
     "name": "stdout",
     "output_type": "stream",
     "text": [
      "('1101', 'Debabrata Maiti', 4)\n",
      "('1102', 'Anil Sethi', 4)\n"
     ]
    }
   ],
   "source": [
    "#2 #How many users(show name) follow by each user.\n",
    "\n",
    "sql= \"select a.user_id, concat(a.fstname,' ',a.lstname) as name,count(b.follow) as follow from users as a inner join follows as b on a.user_id=b.id group by b.id ;\"\n",
    "cursor.execute(sql)\n",
    "myresult= cursor.fetchall()   #fetchall() method, which fetches all rows from the last executed statement.\n",
    "\n",
    "for x in myresult:\n",
    "  print(x)"
   ]
  },
  {
   "cell_type": "code",
   "execution_count": 40,
   "metadata": {},
   "outputs": [
    {
     "name": "stdout",
     "output_type": "stream",
     "text": [
      "('1101', 'Debabrata Maiti', 2)\n",
      "('1102', 'Anil Sethi', 2)\n"
     ]
    }
   ],
   "source": [
    "#3 #Make a list that connect before 2015, after 2016, between 2014-2018, on 2018 with concate name.\n",
    "\n",
    "sql= \"select a.user_id, concat(a.fstname,' ',a.lstname) as name,count(b.follow) as follow from users as a inner join follows as b on a.user_id=b.id where date<'2015-01-01' group by b.id \"\n",
    "cursor.execute(sql)\n",
    "myresult= cursor.fetchall()   #fetchall() method, which fetches all rows from the last executed statement.\n",
    "\n",
    "for x in myresult:\n",
    "  print(x)\n",
    "\n",
    "# select a.user_id, concat(a.fstname,' ',a.lstname) as name,count(b.follow) as follow from users as a inner join follows as b on a.user_id=b.user_id where date>'2015-01-01' group by b.user_id ;\n",
    "# select a.user_id, concat(a.fstname,' ',a.lstname) as name,count(b.follow) as follow from users as a inner join follows as b on a.user_id=b.user_id where date>'2014-01-01' and date<'2018-12-30' group by b.user_id ;\n",
    "# select a.user_id, concat(a.fstname,' ',a.lstname) as name,count(b.follow) as follow from users as a inner join follows as b on a.user_id=b.user_id where date>='2018-01-01' and date<='2018-12-30' group by b.user_id ;\n",
    "#"
   ]
  },
  {
   "cell_type": "code",
   "execution_count": 41,
   "metadata": {},
   "outputs": [
    {
     "data": {
      "text/plain": [
       "'\\nsql=\"select * from (select A.user_id as id,A.fstname as name,A.house,B.user_id,B.follow,B.date from users as A inner join follows as B on A.user_id=B.user_id order by date) as E inner join (select C.user_id as id_B,C.fstname as name_B,C.house as house_B,D.user_id as user_id_B,D.follow as follow_B,D.date as date_B from users as C inner join follows as D on C.user_id=D.follow order by date) as F on E.date=F.date_B where house!=house_B\"\\ncursor.execute(sql)\\nmyresult= cursor.fetchall()   #fetchall() method, which fetches all rows from the last executed statement.\\n\\nfor x in myresult:\\n  print(x) '"
      ]
     },
     "execution_count": 41,
     "metadata": {},
     "output_type": "execute_result"
    }
   ],
   "source": [
    "##3.1 #How many users follow by a particular user, who doesnot belong to same house.\n",
    "\"\"\"\n",
    "sql=\"select * from (select A.user_id as id,A.fstname as name,A.house,B.user_id,B.follow,B.date from users as A inner join follows as B on A.user_id=B.user_id order by date) as E inner join (select C.user_id as id_B,C.fstname as name_B,C.house as house_B,D.user_id as user_id_B,D.follow as follow_B,D.date as date_B from users as C inner join follows as D on C.user_id=D.follow order by date) as F on E.date=F.date_B where house!=house_B\"\n",
    "cursor.execute(sql)\n",
    "myresult= cursor.fetchall()   #fetchall() method, which fetches all rows from the last executed statement.\n",
    "\n",
    "for x in myresult:\n",
    "  print(x) \"\"\""
   ]
  },
  {
   "cell_type": "code",
   "execution_count": 42,
   "metadata": {},
   "outputs": [
    {
     "data": {
      "text/plain": [
       "'\\nsql= \"select name,count(name) as count from (select * from (select A.user_id as id,A.fstname as name,A.house,B.id,B.follow,B.date from users as A inner join follows as B on A.user_id=B.id order by date) as E inner join (select C.user_id as id_B,C.fstname as name_B,C.house as house_B,D.user_id as user_id_B,D.follow as follow_B,D.date as date_B from users as C inner join follows as D on C.user_id=D.follow order by date) as F on E.date=F.date_B where house!=house_B) SUB group by name\"\\ncursor.execute(sql)\\nmyresult= cursor.fetchall()   #fetchall() method, which fetches all rows from the last executed statement.\\n\\nfor x in myresult:\\n  print(x)\\n  \\n'"
      ]
     },
     "execution_count": 42,
     "metadata": {},
     "output_type": "execute_result"
    }
   ],
   "source": [
    "##3.1 #How many users follow by a particular user, who doesnot belong to same house.\n",
    "\"\"\"\n",
    "sql= \"select name,count(name) as count from (select * from (select A.user_id as id,A.fstname as name,A.house,B.id,B.follow,B.date from users as A inner join follows as B on A.user_id=B.id order by date) as E inner join (select C.user_id as id_B,C.fstname as name_B,C.house as house_B,D.user_id as user_id_B,D.follow as follow_B,D.date as date_B from users as C inner join follows as D on C.user_id=D.follow order by date) as F on E.date=F.date_B where house!=house_B) SUB group by name\"\n",
    "cursor.execute(sql)\n",
    "myresult= cursor.fetchall()   #fetchall() method, which fetches all rows from the last executed statement.\n",
    "\n",
    "for x in myresult:\n",
    "  print(x)\n",
    "  \n",
    "\"\"\""
   ]
  },
  {
   "cell_type": "code",
   "execution_count": 43,
   "metadata": {},
   "outputs": [
    {
     "name": "stdout",
     "output_type": "stream",
     "text": [
      "('1116', 'Arisn Ak', 'NSCB')\n"
     ]
    }
   ],
   "source": [
    "#4 #Start ans finish with k\n",
    "\n",
    "sql= \"select user_id, concat(fstname,' ',lstname) as name,house from users where lstname like '%k' ;\"\n",
    "cursor.execute(sql)\n",
    "myresult= cursor.fetchall()   #fetchall() method, which fetches all rows from the last executed statement.\n",
    "\n",
    "for x in myresult:\n",
    "  print(x) "
   ]
  },
  {
   "cell_type": "code",
   "execution_count": 44,
   "metadata": {},
   "outputs": [
    {
     "name": "stdout",
     "output_type": "stream",
     "text": [
      "('1409', 'Narayan', '50000', 'Doct', '68')\n"
     ]
    }
   ],
   "source": [
    "#5 #tell me the details of the person, who age is maximum\n",
    "\n",
    "sql= \"select * from employees order by age desc limit 1\"\n",
    "cursor.execute(sql)\n",
    "myresult= cursor.fetchall()   #fetchall() method, which fetches all rows from the last executed statement.\n",
    "\n",
    "for x in myresult:\n",
    "  print(x)\n",
    "\n",
    "#;"
   ]
  },
  {
   "cell_type": "code",
   "execution_count": 45,
   "metadata": {},
   "outputs": [
    {
     "name": "stdout",
     "output_type": "stream",
     "text": [
      "('1409', 'Narayan', '50000', 'Doct', '68')\n"
     ]
    }
   ],
   "source": [
    "#5.1 #tell me the details of the person, who age is maximum\n",
    "\n",
    "sql= \"select * from employees where age= (select max(age) from employees)\"\n",
    "cursor.execute(sql)\n",
    "myresult= cursor.fetchall()   #fetchall() method, which fetches all rows from the last executed statement.\n",
    "\n",
    "for x in myresult:\n",
    "  print(x)"
   ]
  },
  {
   "cell_type": "code",
   "execution_count": 46,
   "metadata": {},
   "outputs": [
    {
     "name": "stdout",
     "output_type": "stream",
     "text": [
      "('1403', 'Tilak Maiti', '40000', 'Prof', '29', 'A')\n",
      "('1404', 'Krish Nendu', '70000', 'Prof', '27', 'A')\n",
      "('1405', 'Babu', '60000', 'Engineer', '26', 'A')\n",
      "('1407', 'Srinjoy', '80000', 'Engineer', '25', 'A')\n",
      "('1411', 'Amitosh', '40000', 'Doct', '27', 'A')\n",
      "('1416', 'Moinag', '29000', 'Techer', '29', 'A')\n",
      "('1401', 'D Maiti', '140000', 'Prof', '42', 'AA')\n",
      "('1402', 'Amit Sethi', '100000', 'Prof', '39', 'AA')\n",
      "('1410', 'Samares', '20000', 'Doct', '35', 'AA')\n",
      "('1412', 'Anup', '30000', 'Doct', '32', 'AA')\n",
      "('1413', 'Tripti', '40000', 'Techer', '35', 'AA')\n",
      "('1414', 'Bratati', '37000', 'Techer', '41', 'AA')\n",
      "('1406', 'Bablu', '120000', 'Engineer', '56', 'AAA')\n",
      "('1408', 'Samu', '80000', 'Engineer', '58', 'AAA')\n",
      "('1409', 'Narayan', '50000', 'Doct', '68', 'AAA')\n",
      "('1415', 'Hedu', '60000', 'Techer', '58', 'AAA')\n"
     ]
    }
   ],
   "source": [
    "#6 #Catagory of age where (<30=1) (30-40=2) (>40=3)\n",
    "\n",
    "sql= \"select id,name,salary,dept,age, CASE WHEN age<30 THEN 'A' WHEN age BETWEEN 30 AND 45 THEN 'AA' WHEN age>45 THEN 'AAA' END AS category from employees order by category;\"\n",
    "cursor.execute(sql)\n",
    "myresult= cursor.fetchall()   #fetchall() method, which fetches all rows from the last executed statement.\n",
    "\n",
    "for x in myresult:\n",
    "  print(x)"
   ]
  },
  {
   "cell_type": "code",
   "execution_count": 47,
   "metadata": {},
   "outputs": [
    {
     "name": "stdout",
     "output_type": "stream",
     "text": [
      "('1401', 'D Maiti', '140000', 'Prof', '42')\n",
      "('1408', 'Samu', '80000', 'Engineer', '58')\n",
      "('1409', 'Narayan', '50000', 'Doct', '68')\n",
      "('1415', 'Hedu', '60000', 'Techer', '58')\n"
     ]
    }
   ],
   "source": [
    "#7 #Highest age in each dept (Wrong)\n",
    "\n",
    "sql= \"select * from employees where age= any(select max(age) from employees group by dept)\"\n",
    "cursor.execute(sql)\n",
    "myresult= cursor.fetchall()   #fetchall() method, which fetches all rows from the last executed statement.\n",
    "\n",
    "for x in myresult:\n",
    "  print(x)\n"
   ]
  },
  {
   "cell_type": "code",
   "execution_count": 48,
   "metadata": {},
   "outputs": [
    {
     "name": "stdout",
     "output_type": "stream",
     "text": [
      "(1, '1409', 'Narayan', '50000', 'Doct', '68')\n",
      "(1, '1408', 'Samu', '80000', 'Engineer', '58')\n",
      "(1, '1401', 'D Maiti', '140000', 'Prof', '42')\n",
      "(1, '1415', 'Hedu', '60000', 'Techer', '58')\n"
     ]
    }
   ],
   "source": [
    "#7.1 #Highest age in each dept using window function\n",
    "\n",
    "sql= \"select * from (select ROW_NUMBER() OVER(PARTITION BY dept order by age desc) as rnk, id,name,salary,dept,age from employees)SUB where rnk<=1\"\n",
    "cursor.execute(sql)\n",
    "myresult= cursor.fetchall()   #fetchall() method, which fetches all rows from the last executed statement.\n",
    "\n",
    "for x in myresult:\n",
    "  print(x)\n"
   ]
  },
  {
   "cell_type": "code",
   "execution_count": 49,
   "metadata": {},
   "outputs": [
    {
     "name": "stdout",
     "output_type": "stream",
     "text": [
      "('1404', 'Krish Nendu', '70000', 'Prof', '27')\n",
      "('1411', 'Amitosh', '40000', 'Doct', '27')\n",
      "('1403', 'Tilak Maiti', '40000', 'Prof', '29')\n",
      "('1416', 'Moinag', '29000', 'Techer', '29')\n",
      "('1410', 'Samares', '20000', 'Doct', '35')\n",
      "('1413', 'Tripti', '40000', 'Techer', '35')\n",
      "('1408', 'Samu', '80000', 'Engineer', '58')\n",
      "('1415', 'Hedu', '60000', 'Techer', '58')\n"
     ]
    }
   ],
   "source": [
    "#8 # How many are copyed/repetative and what are those values.\n",
    "\n",
    "sql= \"select a.id,a.name,a.salary,a.dept,a.age from employees as a inner join (select age, count(age) from employees group by age having count(age)>1) as b on a.age=b.age order by age\"\n",
    "cursor.execute(sql)\n",
    "myresult= cursor.fetchall()   #fetchall() method, which fetches all rows from the last executed statement.\n",
    "\n",
    "for x in myresult:\n",
    "  print(x)"
   ]
  },
  {
   "cell_type": "code",
   "execution_count": 50,
   "metadata": {},
   "outputs": [
    {
     "name": "stdout",
     "output_type": "stream",
     "text": [
      "('1101', '1102', '2010-04-21 13:35:20', '2014-07-27 12:35:50', 1558)\n",
      "('1101', '1105', '2014-07-27 12:35:50', '2016-07-07 19:45:40', 711)\n",
      "('1101', '1115', '2016-07-07 19:45:40', '2018-01-27 18:15:20', 569)\n",
      "('1101', '1110', '2018-01-27 18:15:20', '2020-03-04', 767)\n",
      "('1102', '1103', '2011-09-15 13:22:40', '2013-03-13 23:42:20', 545)\n",
      "('1102', '1106', '2013-03-13 23:42:20', '2015-11-19 22:45:20', 981)\n",
      "('1102', '1109', '2015-11-19 22:45:20', '2018-04-16 20:05:20', 879)\n",
      "('1102', '1116', '2018-04-16 20:05:20', '2020-03-04', 688)\n"
     ]
    }
   ],
   "source": [
    "# LEAD\n",
    "#9 #Tell me the time intervel one user connect with another integer-\n",
    "\n",
    "sql= \"select id,follow,date,LastDay,DATEDIFF(LastDay,date) as Diff from (select id,follow,date, LEAD(date,1,'2020-03-04') OVER(PARTITION BY id order by id,date) AS LastDay from follows) SUB\"\n",
    "cursor.execute(sql)\n",
    "myresult= cursor.fetchall()   #fetchall() method, which fetches all rows from the last executed statement.\n",
    "\n",
    "for x in myresult:\n",
    "  print(x)"
   ]
  },
  {
   "cell_type": "code",
   "execution_count": 51,
   "metadata": {},
   "outputs": [
    {
     "name": "stdout",
     "output_type": "stream",
     "text": [
      "('1411', 'Amitosh', 'Doct', '27', 27.0)\n",
      "('1412', 'Anup', 'Doct', '32', 59.0)\n",
      "('1410', 'Samares', 'Doct', '35', 94.0)\n",
      "('1409', 'Narayan', 'Doct', '68', 162.0)\n",
      "('1407', 'Srinjoy', 'Engineer', '25', 25.0)\n",
      "('1405', 'Babu', 'Engineer', '26', 51.0)\n",
      "('1406', 'Bablu', 'Engineer', '56', 107.0)\n",
      "('1408', 'Samu', 'Engineer', '58', 165.0)\n",
      "('1404', 'Krish Nendu', 'Prof', '27', 27.0)\n",
      "('1403', 'Tilak Maiti', 'Prof', '29', 56.0)\n",
      "('1402', 'Amit Sethi', 'Prof', '39', 95.0)\n",
      "('1401', 'D Maiti', 'Prof', '42', 137.0)\n",
      "('1416', 'Moinag', 'Techer', '29', 29.0)\n",
      "('1413', 'Tripti', 'Techer', '35', 64.0)\n",
      "('1414', 'Bratati', 'Techer', '41', 105.0)\n",
      "('1415', 'Hedu', 'Techer', '58', 163.0)\n"
     ]
    }
   ],
   "source": [
    "#\n",
    "#Cumulative age department wise\n",
    "\n",
    "sql= \"select id,name,dept,age, sum(age) over(partition by dept order by age) as cum from employees\"\n",
    "cursor.execute(sql)\n",
    "myresult= cursor.fetchall()   #fetchall() method, which fetches all rows from the last executed statement.\n",
    "\n",
    "for x in myresult:\n",
    "  print(x)\n"
   ]
  },
  {
   "cell_type": "code",
   "execution_count": null,
   "metadata": {},
   "outputs": [],
   "source": []
  },
  {
   "cell_type": "code",
   "execution_count": null,
   "metadata": {},
   "outputs": [],
   "source": []
  },
  {
   "cell_type": "code",
   "execution_count": null,
   "metadata": {},
   "outputs": [],
   "source": []
  }
 ],
 "metadata": {
  "kernelspec": {
   "display_name": "Python 3",
   "language": "python",
   "name": "python3"
  },
  "language_info": {
   "codemirror_mode": {
    "name": "ipython",
    "version": 3
   },
   "file_extension": ".py",
   "mimetype": "text/x-python",
   "name": "python",
   "nbconvert_exporter": "python",
   "pygments_lexer": "ipython3",
   "version": "3.8.5"
  }
 },
 "nbformat": 4,
 "nbformat_minor": 4
}
