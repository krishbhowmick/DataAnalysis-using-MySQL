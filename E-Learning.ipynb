{
 "cells": [
  {
   "cell_type": "code",
   "execution_count": null,
   "metadata": {},
   "outputs": [],
   "source": [
    "#Creating Databases in MySQL\n",
    "\n",
    "import mysql.connector\n",
    "mydb = mysql.connector.connect(host=\"localhost\", user=\"root\",  password=\"#meKRISH30\")\n",
    "print(mydb)\n",
    "cursor = mydb.cursor()\n"
   ]
  },
  {
   "cell_type": "code",
   "execution_count": null,
   "metadata": {},
   "outputs": [],
   "source": [
    "cursor.execute('SHOW DATABASES')\n",
    "for database in cursor:\n",
    "    print(database)\n"
   ]
  },
  {
   "cell_type": "code",
   "execution_count": null,
   "metadata": {},
   "outputs": [],
   "source": [
    "# sql_mode=only_full_group_by\n",
    "\n",
    "sql= \"SET sql_mode=(SELECT REPLACE(@@sql_mode,'ONLY_FULL_GROUP_BY',''))\"\n",
    "cursor.execute(sql)\n",
    "mydb.commit()"
   ]
  },
  {
   "cell_type": "code",
   "execution_count": null,
   "metadata": {},
   "outputs": [],
   "source": [
    "# -selected database\n",
    "\n",
    "cursor.execute('use grofers')"
   ]
  },
  {
   "cell_type": "code",
   "execution_count": null,
   "metadata": {},
   "outputs": [],
   "source": [
    "#Show tables\n",
    "\n",
    "sql= \"show tables\"\n",
    "cursor.execute(sql)\n",
    "\n",
    "for database in cursor:\n",
    "    print(database)"
   ]
  },
  {
   "cell_type": "code",
   "execution_count": null,
   "metadata": {},
   "outputs": [],
   "source": [
    "#0.1 #Q0  Table1.\n",
    "\n",
    "sql= \"select * from Table1 \"\n",
    "cursor.execute(sql)\n",
    "myresult= cursor.fetchall()\n",
    "\n",
    "for x in myresult:\n",
    "  print(x)"
   ]
  },
  {
   "cell_type": "code",
   "execution_count": null,
   "metadata": {},
   "outputs": [],
   "source": [
    "#0.2 #Q0  Table2\n",
    "\n",
    "sql= \"select * from Table2 \"\n",
    "cursor.execute(sql)\n",
    "myresult= cursor.fetchall()   #fetchall() method, which fetches all rows from the last executed statement.\n",
    "\n",
    "for x in myresult:\n",
    "  print(x)"
   ]
  },
  {
   "cell_type": "code",
   "execution_count": null,
   "metadata": {},
   "outputs": [],
   "source": [
    "#0.3 #Q0  Table3\n",
    "\n",
    "sql= \"select * from Table3 \"\n",
    "cursor.execute(sql)\n",
    "myresult= cursor.fetchall()   #fetchall() method, which fetches all rows from the last executed statement.\n",
    "\n",
    "for x in myresult:\n",
    "  print(x)"
   ]
  },
  {
   "cell_type": "code",
   "execution_count": null,
   "metadata": {},
   "outputs": [],
   "source": [
    "#  #Q1. How Many students joined the session on time?\n",
    "\n",
    "\n",
    "sql= \"select * from (select ROW_NUMBER() OVER(ORDER BY Marks desc) as rnk, ID,Marks,Email from Table1)SUB where rnk=2 \"\n",
    "cursor.execute(sql)\n",
    "myresult= cursor.fetchall()   #fetchall() method, which fetches all rows from the last executed statement.\n",
    "\n",
    "for x in myresult:\n",
    "  print(x)"
   ]
  },
  {
   "cell_type": "code",
   "execution_count": null,
   "metadata": {},
   "outputs": [],
   "source": [
    "#  #Q2. How many students joined the session after 10mins of the Session time?\n",
    "\n",
    "\n",
    "sql= \"select * from (select ROW_NUMBER() OVER(ORDER BY Marks desc) as rnk, ID,Marks,Email from Table1)SUB where rnk=2 \"\n",
    "cursor.execute(sql)\n",
    "myresult= cursor.fetchall()   #fetchall() method, which fetches all rows from the last executed statement.\n",
    "\n",
    "for x in myresult:\n",
    "  print(x)"
   ]
  },
  {
   "cell_type": "code",
   "execution_count": null,
   "metadata": {},
   "outputs": [],
   "source": [
    "#  #Q3. How Many students attended the sessions?\n",
    "\n",
    "\n",
    "sql= \"select * from (select ROW_NUMBER() OVER(ORDER BY Marks desc) as rnk, ID,Marks,Email from Table1)SUB where rnk=2 \"\n",
    "cursor.execute(sql)\n",
    "myresult= cursor.fetchall()   #fetchall() method, which fetches all rows from the last executed statement.\n",
    "\n",
    "for x in myresult:\n",
    "  print(x)"
   ]
  },
  {
   "cell_type": "code",
   "execution_count": null,
   "metadata": {},
   "outputs": [],
   "source": [
    "#  #Q4. How many students attended all the classes?\n",
    "\n",
    "sql= \"select * from (select ROW_NUMBER() OVER(ORDER BY Marks desc) as rnk, ID,Marks,Email from Table1)SUB where rnk=2 \"\n",
    "cursor.execute(sql)\n",
    "myresult= cursor.fetchall()   #fetchall() method, which fetches all rows from the last executed statement.\n",
    "\n",
    "for x in myresult:\n",
    "  print(x)"
   ]
  },
  {
   "cell_type": "code",
   "execution_count": null,
   "metadata": {},
   "outputs": [],
   "source": []
  },
  {
   "cell_type": "code",
   "execution_count": null,
   "metadata": {},
   "outputs": [],
   "source": []
  },
  {
   "cell_type": "code",
   "execution_count": null,
   "metadata": {},
   "outputs": [],
   "source": []
  },
  {
   "cell_type": "code",
   "execution_count": null,
   "metadata": {},
   "outputs": [],
   "source": []
  }
 ],
 "metadata": {
  "kernelspec": {
   "display_name": "Python 3",
   "language": "python",
   "name": "python3"
  },
  "language_info": {
   "codemirror_mode": {
    "name": "ipython",
    "version": 3
   },
   "file_extension": ".py",
   "mimetype": "text/x-python",
   "name": "python",
   "nbconvert_exporter": "python",
   "pygments_lexer": "ipython3",
   "version": "3.8.5"
  }
 },
 "nbformat": 4,
 "nbformat_minor": 4
}
